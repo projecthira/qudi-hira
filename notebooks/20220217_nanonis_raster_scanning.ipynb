{
 "cells": [
  {
   "cell_type": "code",
   "execution_count": 1,
   "metadata": {},
   "outputs": [],
   "source": [
    "import time"
   ]
  },
  {
   "cell_type": "code",
   "execution_count": 2,
   "metadata": {},
   "outputs": [],
   "source": [
    "pulsed_name = \"rabi\""
   ]
  },
  {
   "cell_type": "code",
   "execution_count": 3,
   "metadata": {},
   "outputs": [],
   "source": [
    "pulsedmeasurement._pm.samplo_buttons[pulsed_name].click()\n",
    "print(\"Loading {} to AWG\".format(pulsed_name))"
   ]
  },
  {
   "cell_type": "code",
   "execution_count": 13,
   "metadata": {},
   "outputs": [],
   "source": [
    "confocalgui_ambient.refocus_clicked()\n",
    "# print(f\"[{row}, {col}] Refocusing...\")"
   ]
  },
  {
   "cell_type": "code",
   "execution_count": 6,
   "metadata": {},
   "outputs": [],
   "source": [
    "while True:\n",
    "    if nanonis_raster_scanner.get_status()[\"nanonis_running\"]:\n",
    "        print(\"Nanonis is now running...\")\n",
    "        row, col = -1, -1\n",
    "        while True:\n",
    "            try:\n",
    "                current_pos = nanonis_raster_scanner.get_pos([\"current\"])\n",
    "                current_row, current_col = current_pos[\"row\"], current_pos[\"col\"]\n",
    "\n",
    "                if current_row != row or current_col != col:\n",
    "                    if current_row + current_col != 0:\n",
    "                        pulsedmeasurement.measurement_run_stop_clicked(False)\n",
    "                        print(f\"[{row}, {col}] Stopping measurement '{pulsed_name}'\")\n",
    "                        time.sleep(2)\n",
    "                        \n",
    "                        pulsedmeasurement.save_clicked()\n",
    "                        print(f\"[{row}, {col}] Saving data...\")\n",
    "                        time.sleep(2)\n",
    "                    if current_row == -1 and current_col == -1:\n",
    "                        break\n",
    "                    row = current_row\n",
    "                    col = current_col\n",
    "                    \n",
    "                    # confocalgui_ambient.refocus_clicked()\n",
    "                    # print(f\"[{row}, {col}] Refocusing...\")\n",
    "                    # time.sleep(42)\n",
    "\n",
    "                    pulsedmeasurement.measurement_run_stop_clicked(True)\n",
    "                    pulsedmeasurement._mw.save_tag_LineEdit.setText(\"rabi_raster_test_row{}_col{}\".format(row, col))\n",
    "                    print(f\"[{row}, {col}] Starting measurement '{pulsed_name}'...\")\n",
    "            except ValueError as exc:\n",
    "                time.sleep(0.05)\n",
    "                pass\n",
    "        print(\"Nanonis has now stopped\")\n",
    "        break\n",
    "    else:\n",
    "        time.sleep(0.05)"
   ]
  }
 ],
 "metadata": {
  "kernelspec": {
   "display_name": "Qudi",
   "language": "python",
   "name": "qudi"
  },
  "language_info": {
   "codemirror_mode": {
    "name": "ipython",
    "version": "3.6.5"
   },
   "file_extension": ".py",
   "mimetype": "text/x-python",
   "name": "python",
   "nbconvert_exporter": "python",
   "pygments_lexer": "ipython3",
   "version": "3.6.5"
  }
 },
 "nbformat": 4,
 "nbformat_minor": 2
}

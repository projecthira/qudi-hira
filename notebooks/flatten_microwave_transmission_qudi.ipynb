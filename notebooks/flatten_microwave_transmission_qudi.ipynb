{
 "cells": [
  {
   "cell_type": "code",
   "execution_count": 1,
   "metadata": {},
   "outputs": [],
   "source": [
    "import os\n",
    "import csv\n",
    "import numpy as np\n",
    "import matplotlib.pyplot as plt\n",
    "import tools.mw_transmission_optimization as mto\n",
    "from scipy.interpolate import interp1d\n",
    "import datetime"
   ]
  },
  {
   "cell_type": "markdown",
   "metadata": {},
   "source": [
    "# Launch NA qudi HW module with device in analyzer mode"
   ]
  },
  {
   "cell_type": "code",
   "execution_count": 3,
   "metadata": {},
   "outputs": [
    {
     "name": "stdout",
     "output_type": "stream",
     "text": [
      "Saving data to Z:\\Data\\20220112_SingleNV_Membrane_RT\\20220113-1609-20_NetworkAnalysis.csv\n"
     ]
    }
   ],
   "source": [
    "FILENAME = datetime.datetime.now().strftime(\"%Y%m%d-%H%M-%S\") + \"_NetworkAnalysis.csv\"\n",
    "FILE_PATH = os.path.join(savelogic.data_dir, FILENAME)\n",
    "\n",
    "print(f\"Saving data to {FILE_PATH}\")"
   ]
  },
  {
   "cell_type": "markdown",
   "metadata": {},
   "source": [
    "# Get current transmission function\n",
    "Invert it and interpolate, generate new data set with resolution of the SMF100A (within the memory constraints)\n"
   ]
  },
  {
   "cell_type": "code",
   "execution_count": 4,
   "metadata": {},
   "outputs": [],
   "source": [
    "frequency, power = na_zvl6.get_trace(points=4000)\n",
    "corrected_power = mto.get_corrected_power(power)\n",
    "\n",
    "mto.write_to_csv(frequency, power, corrected_power, FILE_PATH)"
   ]
  },
  {
   "cell_type": "code",
   "execution_count": 5,
   "metadata": {},
   "outputs": [],
   "source": [
    "FILE_PATH = \"Z:\\\\Data\\\\20220112_SingleNV_Membrane_RT\\\\20220113-1549-14_NetworkAnalysis.csv\""
   ]
  },
  {
   "cell_type": "code",
   "execution_count": 6,
   "metadata": {},
   "outputs": [],
   "source": [
    "frequency, power, corrected_power = mto.read_from_csv(FILE_PATH)"
   ]
  },
  {
   "cell_type": "code",
   "execution_count": 7,
   "metadata": {},
   "outputs": [],
   "source": [
    "FREQUENCY_PRECISION = 500e3\n",
    "\n",
    "f = interp1d(frequency, corrected_power)\n",
    "frequency_interp = np.arange(1e9, 6e9, FREQUENCY_PRECISION)\n",
    "corrected_power_interp = f(frequency_interp)"
   ]
  },
  {
   "cell_type": "code",
   "execution_count": 8,
   "metadata": {},
   "outputs": [],
   "source": [
    "fig, ax = plt.subplots()\n",
    "\n",
    "ax.plot(frequency, power, label=\"Original Transmission\")\n",
    "ax.plot(frequency, corrected_power, label=\"Corrected transmission\")\n",
    "ax.plot(frequency_interp, corrected_power_interp, label=\"Interpolated correction\")\n",
    "ax.plot(frequency, power + corrected_power, label=\"Expected outcome\")\n",
    "ax.set(xlabel=\"Frequency\", ylabel=\"Power (dBm)\")\n",
    "ax.legend()\n",
    "plt.savefig(FILE_PATH[:-4] + \".png\", dpi=600)"
   ]
  },
  {
   "cell_type": "markdown",
   "metadata": {},
   "source": [
    "# Send the interpolated values to the MW source\n",
    "With the precision defined by the memory limit of the MW source (~500 kHz for 1 - 6 GHz range)"
   ]
  },
  {
   "cell_type": "code",
   "execution_count": 9,
   "metadata": {},
   "outputs": [],
   "source": [
    "frequency_string, corrected_power_string = mto.generate_f_p_strings(frequency_interp, corrected_power_interp)"
   ]
  },
  {
   "cell_type": "code",
   "execution_count": 18,
   "metadata": {},
   "outputs": [],
   "source": [
    "mw_smf100a.inst.timeout = 5000"
   ]
  },
  {
   "cell_type": "code",
   "execution_count": 19,
   "metadata": {},
   "outputs": [
    {
     "name": "stdout",
     "output_type": "stream",
     "text": [
      "('10000\\n', '10000\\n')\n"
     ]
    }
   ],
   "source": [
    "mw_smf100a.disable_user_correction()\n",
    "mw_smf100a.create_user_correction_file(name=\"odmr\")\n",
    "mw_smf100a.write_string_to_device(frequency_string, corrected_power_string)\n",
    "print(mw_smf100a.check_number_of_points())"
   ]
  },
  {
   "cell_type": "code",
   "execution_count": 20,
   "metadata": {},
   "outputs": [],
   "source": [
    "mw_smf100a.load_user_correction_and_turn_on(name=\"odmr\")"
   ]
  }
 ],
 "metadata": {
  "kernelspec": {
   "display_name": "Qudi",
   "language": "python",
   "name": "qudi"
  },
  "language_info": {
   "codemirror_mode": {
    "name": "ipython",
    "version": "3.6.5"
   },
   "file_extension": ".py",
   "mimetype": "text/x-python",
   "name": "python",
   "nbconvert_exporter": "python",
   "pygments_lexer": "ipython3",
   "version": "3.6.5"
  }
 },
 "nbformat": 4,
 "nbformat_minor": 2
}

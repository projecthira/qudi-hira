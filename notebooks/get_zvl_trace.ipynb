{
 "cells": [
  {
   "cell_type": "code",
   "execution_count": 36,
   "metadata": {},
   "outputs": [],
   "source": [
    "import os\n",
    "import csv\n",
    "import numpy as np\n",
    "import matplotlib.pyplot as plt\n",
    "import tools.mw_transmission_optimization as mto\n",
    "from scipy.interpolate import interp1d\n",
    "import datetime\n",
    "import time"
   ]
  },
  {
   "cell_type": "code",
   "execution_count": 115,
   "metadata": {},
   "outputs": [],
   "source": [
    "FILENAME = datetime.datetime.now().strftime(\"%Y%m%d-%H%M-%S\") + \"_plot_20dBm_5000reps\""
   ]
  },
  {
   "cell_type": "code",
   "execution_count": 116,
   "metadata": {},
   "outputs": [],
   "source": [
    "na_zvl6.instr.write_str('HCOP:DEV:LANG PNG')"
   ]
  },
  {
   "cell_type": "code",
   "execution_count": 117,
   "metadata": {},
   "outputs": [
    {
     "name": "stdout",
     "output_type": "stream",
     "text": [
      "Saved image 0 to D:\\20220117-1558-07_plot_20dBm_5000reps_0.PNG\n",
      "Saved image 1 to D:\\20220117-1558-07_plot_20dBm_5000reps_1.PNG\n",
      "Saved image 2 to D:\\20220117-1558-07_plot_20dBm_5000reps_2.PNG\n",
      "Saved image 3 to D:\\20220117-1558-07_plot_20dBm_5000reps_3.PNG\n",
      "Saved image 4 to D:\\20220117-1558-07_plot_20dBm_5000reps_4.PNG\n",
      "Saved image 5 to D:\\20220117-1558-07_plot_20dBm_5000reps_5.PNG\n",
      "Saved image 6 to D:\\20220117-1558-07_plot_20dBm_5000reps_6.PNG\n",
      "Saved image 7 to D:\\20220117-1558-07_plot_20dBm_5000reps_7.PNG\n",
      "Saved image 8 to D:\\20220117-1558-07_plot_20dBm_5000reps_8.PNG\n",
      "Saved image 9 to D:\\20220117-1558-07_plot_20dBm_5000reps_9.PNG\n"
     ]
    }
   ],
   "source": [
    "for i in range(10):\n",
    "    filepath = f\"D:\\{FILENAME}_{i}.PNG\"\n",
    "    na_zvl6.instr.write_str(f\"MMEM:NAME '{filepath}'\")\n",
    "    na_zvl6.instr.write_str(\"HCOP:ITEM:ALL\")\n",
    "    data = na_zvl6.instr.write_str(\"HCOP\")\n",
    "    print(f\"Saved image {i} to {filepath}\")"
   ]
  },
  {
   "cell_type": "code",
   "execution_count": null,
   "metadata": {},
   "outputs": [],
   "source": [
    "for i in range(10):\n",
    "    filename = f\"{FILENAME}_{i}.PNG\"\n",
    "    na_zvl6.print_screen_to_usb(filename)\n",
    "    print(f\"Saved image {i} to {filepath}\")"
   ]
  },
  {
   "cell_type": "code",
   "execution_count": null,
   "metadata": {},
   "outputs": [],
   "source": [
    "fig, ax = plt.subplots()\n",
    "\n",
    "ax.plot(frequency, power, label=\"Original Transmission\")\n",
    "ax.plot(frequency, corrected_power, label=\"Corrected transmission\")\n",
    "ax.plot(frequency_interp, corrected_power_interp, label=\"Interpolated correction\")\n",
    "ax.plot(frequency, power + corrected_power, label=\"Expected outcome\")\n",
    "ax.set(xlabel=\"Frequency\", ylabel=\"Power (dBm)\")\n",
    "ax.legend()\n",
    "plt.savefig(FILE_PATH[:-4] + \".png\", dpi=600)"
   ]
  }
 ],
 "metadata": {
  "kernelspec": {
   "display_name": "Qudi",
   "language": "python",
   "name": "qudi"
  },
  "language_info": {
   "codemirror_mode": {
    "name": "ipython",
    "version": "3.6.5"
   },
   "file_extension": ".py",
   "mimetype": "text/x-python",
   "name": "python",
   "nbconvert_exporter": "python",
   "pygments_lexer": "ipython3",
   "version": "3.6.5"
  }
 },
 "nbformat": 4,
 "nbformat_minor": 2
}

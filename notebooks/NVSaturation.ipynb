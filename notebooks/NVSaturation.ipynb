{
 "cells": [
  {
   "cell_type": "markdown",
   "metadata": {},
   "source": [
    "# NV Saturation measurement\n",
    "\n",
    "Required modules\n",
    "- powermeterlogic\n",
    "- laserlogic"
   ]
  },
  {
   "cell_type": "code",
   "execution_count": 48,
   "metadata": {
    "pycharm": {
     "name": "#%%\n"
    }
   },
   "outputs": [],
   "source": [
    "import os\n",
    "import time\n",
    "import matplotlib.pyplot as plt\n",
    "\n",
    "from collections import OrderedDict\n",
    "import datetime\n",
    "\n",
    "from logic.generic_logic import GenericLogic"
   ]
  },
  {
   "cell_type": "code",
   "execution_count": 69,
   "metadata": {},
   "outputs": [],
   "source": [
    "class SaturationLogic(GenericLogic):\n",
    "    def __init__(self):\n",
    "        self.count_freq = counterlogic._count_frequency\n",
    "        self.laserlogic = laserlogic\n",
    "        self.powermeterlogic = powermeterlogic\n",
    "        self.counterlogic = counterlogic\n",
    "        self.savelogic = savelogic\n",
    "        \n",
    "        self.data = {}\n",
    "        self.start_power = 0\n",
    "        self.final_power = 0\n",
    "        self.num_points = 0\n",
    "        self.counts_average_from_end = 0\n",
    "        \n",
    "    def draw_figure(self):\n",
    "        powers, counts = self.data[\"Powermeter power (W)\"], self.data[\"Avg. counts\"]\n",
    "\n",
    "        plt.style.use(savelogic.mpl_qudihira_style)\n",
    "\n",
    "        fig, ax = plt.subplots()\n",
    "\n",
    "        ax.errorbar(powers * 1e6, counts, yerr=self.data[\"Count errors\"], capsize=3, fmt=\"o-\")\n",
    "        ax.set_xlabel(\"Powermeter power (uW)\")\n",
    "        ax.set_ylabel(\"Mean counts (kcps)\")\n",
    "        \n",
    "        fig.tight_layout()\n",
    "        return fig\n",
    "\n",
    "    def save_data(self, tag=None):\n",
    "        timestamp = datetime.datetime.now()\n",
    "\n",
    "        parameters = OrderedDict()\n",
    "        \n",
    "        data_to_save = OrderedDict()\n",
    "        data_to_save[\"Laser power (W)\"] = self.data[\"Laser power (W)\"]\n",
    "        data_to_save[\"Powermeter power (W)\"] = self.data[\"Powermeter power (W)\"]\n",
    "        data_to_save[\"UHV objective power (W)\"] = self.data[\"UHV objective power (W)\"]\n",
    "        data_to_save[\"RT objective power (W)\"] = self.data[\"RT objective power (W)\"]\n",
    "        data_to_save[\"Avg. counts\"] = self.data[\"Avg. counts\"]\n",
    "        data_to_save[\"Count errors\"] = self.data[\"Count errors\"]\n",
    "\n",
    "        filepath = self.savelogic.get_path_for_module(module_name=\"Saturation\")\n",
    "\n",
    "        if tag:\n",
    "            filelabel = f\"{tag}_saturation\"\n",
    "        else:\n",
    "            filelabel = \"saturation\"\n",
    "        \n",
    "        self.log.info('Saturation saved to:\\n{0}'.format(filepath))\n",
    "        \n",
    "        fig = self.draw_figure()\n",
    "\n",
    "        self.savelogic.save_data(data, filepath=filepath, parameters=parameters, filelabel=filelabel, \n",
    "                                 timestamp=timestamp, plotfig=fig, delimiter='\\t')\n",
    "        \n",
    "    def set_up_measure(self, start_power, final_power, num_points, counts_average_from_end):\n",
    "        self.start_power = start_power\n",
    "        self.final_power = final_power\n",
    "        self.num_points = num_points\n",
    "        self.counts_average_from_end = counts_average_from_end\n",
    "        \n",
    "    def start_measure(self):\n",
    "        self.data = {}\n",
    "        laser_powers = np.linspace(self.start_power, self.final_power, self.num_points)\n",
    "        counts = np.zeros(self.num_points, dtype=int)\n",
    "        powermeter_powers = np.zeros(self.num_points)\n",
    "        count_errors = np.zeros((2, self.num_points))\n",
    "        \n",
    "        current_power = self.laserlogic.laser_power\n",
    "\n",
    "        for idx, laser_power in enumerate(laser_powers):\n",
    "            try: \n",
    "                self.laserlogic.set_power(laser_power)\n",
    "            except ValueError:\n",
    "                time.sleep(1)\n",
    "                self.laserlogic.set_power(laser_power)\n",
    "            \n",
    "            # Sleep for 5s\n",
    "            time.sleep(150 / self.count_freq)\n",
    "            self.powermeterlogic.get_power(state=None)\n",
    "            powermeter_powers[idx] = self.powermeterlogic.power\n",
    "            \n",
    "            count_array = self.counterlogic.countdata_smoothed[0, -self.counts_average_from_end:]\n",
    "            counts[idx] = np.mean(count_array)\n",
    "            count_errors[0, idx] = np.max(count_array) - counts[idx]\n",
    "            count_errors[1, idx] = counts[idx] - np.min(count_array)\n",
    "\n",
    "            print(f\"[{idx+1}/{len(laser_powers)}] laser power={laser_power * 1e3} mW, powermeter power={powermeter_powers[idx] * 1e6:.2f} uW, counts={counts[idx]}\")\n",
    "        \n",
    "        self.data = {\n",
    "            \"Laser power (W)\": laser_powers, \n",
    "            \"Powermeter power (W)\": powermeter_powers, \n",
    "            \"UHV objective power (W)\": powermeter_powers * powermeterlogic.calibration_param_uhv, \n",
    "            \"RT objective power (W)\": powermeter_powers * powermeterlogic.calibration_param_rt,\n",
    "            \"Avg. counts\": counts,\n",
    "            \"Count errors\": count_errors\n",
    "        }"
   ]
  },
  {
   "cell_type": "code",
   "execution_count": 70,
   "metadata": {
    "pycharm": {
     "name": "#%%\n"
    }
   },
   "outputs": [
    {
     "name": "stdout",
     "output_type": "stream",
     "text": [
      "[1/10] laser power=5.0 mW, powermeter power=0.01 uW, counts=232\n",
      "[2/10] laser power=15.555555555555555 mW, powermeter power=0.56 uW, counts=5804\n",
      "[3/10] laser power=26.111111111111114 mW, powermeter power=2.42 uW, counts=18419\n",
      "[4/10] laser power=36.666666666666664 mW, powermeter power=3.79 uW, counts=25904\n",
      "[5/10] laser power=47.22222222222222 mW, powermeter power=5.51 uW, counts=34284\n",
      "[6/10] laser power=57.77777777777778 mW, powermeter power=7.85 uW, counts=41192\n",
      "[7/10] laser power=68.33333333333334 mW, powermeter power=10.35 uW, counts=48429\n",
      "[8/10] laser power=78.8888888888889 mW, powermeter power=12.72 uW, counts=55197\n",
      "[9/10] laser power=89.44444444444446 mW, powermeter power=14.74 uW, counts=60992\n",
      "[10/10] laser power=100.0 mW, powermeter power=16.68 uW, counts=66497\n"
     ]
    }
   ],
   "source": [
    "sat = SaturationLogic()\n",
    "sat.set_up_measure(start_power=5e-3, final_power=100e-3, num_points=10, counts_average_from_end=75)\n",
    "sat.start_measure()\n",
    "sat.save_data(tag=\"NV\")"
   ]
  },
  {
   "cell_type": "code",
   "execution_count": null,
   "metadata": {},
   "outputs": [],
   "source": []
  }
 ],
 "metadata": {
  "kernelspec": {
   "display_name": "Qudi",
   "language": "python",
   "name": "qudi"
  },
  "language_info": {
   "codemirror_mode": {
    "name": "ipython",
    "version": "3.6.5"
   },
   "file_extension": ".py",
   "mimetype": "text/x-python",
   "name": "python",
   "nbconvert_exporter": "python",
   "pygments_lexer": "ipython3",
   "version": "3.6.5"
  }
 },
 "nbformat": 4,
 "nbformat_minor": 2
}

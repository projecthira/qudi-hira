{
 "cells": [
  {
   "cell_type": "markdown",
   "metadata": {},
   "source": [
    "# NV Saturation measurement\n",
    "\n",
    "Required modules\n",
    "- powermeter + powermeterlogic\n",
    "- laser_toptica + laserlogic \n",
    "- fitlogic"
   ]
  },
  {
   "cell_type": "code",
   "execution_count": 27,
   "metadata": {
    "pycharm": {
     "name": "#%%\n"
    }
   },
   "outputs": [],
   "source": [
    "import os\n",
    "import time\n",
    "import matplotlib.pyplot as plt\n",
    "\n",
    "from collections import OrderedDict\n",
    "import datetime"
   ]
  },
  {
   "cell_type": "code",
   "execution_count": 28,
   "metadata": {
    "pycharm": {
     "name": "#%%\n"
    }
   },
   "outputs": [],
   "source": [
    "def draw_figure(data):\n",
    "    powers, counts = data[\"Powermeter power (W)\"], data[\"Avg. counts\"]\n",
    "    \n",
    "    plt.style.use(savelogic.mpl_qudihira_style)\n",
    "\n",
    "    fig, ax = plt.subplots()\n",
    "\n",
    "    ax.plot(powers, counts, \"o--\")\n",
    "    ax.set_xlabel(\"Powermeter power (W)\")\n",
    "    ax.set_ylabel(\"Mean counts (kcps)\")\n",
    "\n",
    "    fit_result = fitlogic.make_hyperbolicsaturation_fit(\n",
    "        powers, counts, estimator=fitlogic.estimate_hyperbolicsaturation\n",
    "    )\n",
    "    ax.plot(powers, fit_result.best_fit, '-', label='Hyperbolic Saturation fit')\n",
    "\n",
    "    ax.legend()\n",
    "    fig.tight_layout()\n",
    "    return fig, fit_result\n",
    "    \n",
    "\n",
    "def save_data(data_to_save, fit_result, fig, tag=None):\n",
    "    timestamp = datetime.datetime.now()\n",
    "\n",
    "    parameters = OrderedDict()\n",
    "    parameters[\"Hyperbolic fit\"] = fit_result.fit_report()\n",
    "\n",
    "    data = OrderedDict()\n",
    "    data[\"Laser power (W)\"] = data_to_save[\"Laser power (W)\"]\n",
    "    data[\"Powermeter power (W)\"] = data_to_save[\"Powermeter power (W)\"]\n",
    "    data[\"UHV objective power (W)\"] = data_to_save[\"UHV objective power (W)\"]\n",
    "    data[\"RT objective power (W)\"] = data_to_save[\"RT objective power (W)\"]\n",
    "    data[\"Avg. counts\"] = data_to_save[\"Avg. counts\"]\n",
    "\n",
    "    filepath = savelogic.get_path_for_module(module_name=\"Saturation\")\n",
    "    \n",
    "    if tag:\n",
    "        filelabel = f\"{tag}_saturation\"\n",
    "    else:\n",
    "        filelabel = \"saturation\"\n",
    "    \n",
    "    print(f\"Data saved to {os.path.join(filepath, filelabel)}\")\n",
    "\n",
    "    savelogic.save_data(data, filepath=filepath, parameters=parameters, filelabel=filelabel, \n",
    "                        timestamp=timestamp, plotfig=fig, delimiter='\\t')"
   ]
  },
  {
   "cell_type": "code",
   "execution_count": 29,
   "metadata": {
    "pycharm": {
     "name": "#%%\n"
    }
   },
   "outputs": [
    {
     "name": "stdout",
     "output_type": "stream",
     "text": [
      "[1/20] laser power=5.0 mW, powermeter power=0.00 uW, counts=301\n",
      "[2/20] laser power=10.0 mW, powermeter power=0.25 uW, counts=3291\n",
      "[3/20] laser power=15.0 mW, powermeter power=0.45 uW, counts=6862\n",
      "[4/20] laser power=20.0 mW, powermeter power=1.08 uW, counts=13570\n",
      "[5/20] laser power=25.0 mW, powermeter power=2.06 uW, counts=22889\n",
      "[6/20] laser power=30.000000000000004 mW, powermeter power=2.82 uW, counts=27232\n",
      "[7/20] laser power=34.99999999999999 mW, powermeter power=3.58 uW, counts=33620\n",
      "[8/20] laser power=40.0 mW, powermeter power=4.21 uW, counts=37948\n",
      "[9/20] laser power=45.0 mW, powermeter power=5.09 uW, counts=42434\n",
      "[10/20] laser power=49.99999999999999 mW, powermeter power=5.89 uW, counts=45928\n",
      "[11/20] laser power=55.0 mW, powermeter power=6.89 uW, counts=49184\n",
      "[12/20] laser power=60.0 mW, powermeter power=8.30 uW, counts=53528\n",
      "[13/20] laser power=65.0 mW, powermeter power=9.39 uW, counts=56854\n",
      "[14/20] laser power=70.0 mW, powermeter power=10.81 uW, counts=60135\n",
      "[15/20] laser power=75.00000000000001 mW, powermeter power=11.73 uW, counts=61906\n",
      "[16/20] laser power=80.0 mW, powermeter power=12.76 uW, counts=64762\n",
      "[17/20] laser power=85.0 mW, powermeter power=13.77 uW, counts=67784\n",
      "[18/20] laser power=90.00000000000001 mW, powermeter power=14.69 uW, counts=69986\n",
      "[19/20] laser power=95.0 mW, powermeter power=15.70 uW, counts=72456\n",
      "[20/20] laser power=100.0 mW, powermeter power=16.66 uW, counts=75560\n"
     ]
    }
   ],
   "source": [
    "count_freq = counterlogic._count_frequency\n",
    "\n",
    "current_power = laser_toptica.get_power()\n",
    "\n",
    "laser_powers = np.linspace(5e-3, 100e-3, 20)\n",
    "counts = np.zeros(len(laser_powers), dtype=int)\n",
    "powermeter_powers = np.zeros(len(laser_powers))\n",
    "\n",
    "for idx, laser_power in enumerate(laser_powers):\n",
    "    try: \n",
    "        laserlogic.set_power(laser_power)\n",
    "    except ValueError:\n",
    "        time.sleep(1)\n",
    "        laserlogic.set_power(laser_power)\n",
    "    \n",
    "    # Wait for laser to settle\n",
    "    time.sleep(2)\n",
    "    \n",
    "    # Sleep for 5s\n",
    "    time.sleep(150 / count_freq)\n",
    "    powermeter_powers[idx] = powermeter.get_power()\n",
    "    counts[idx] = np.mean(counterlogic.countdata_smoothed[0, -75:])\n",
    "    \n",
    "    print(f\"[{idx+1}/{len(laser_powers)}] laser power={laser_power * 1e3} mW, powermeter power={powermeter_powers[idx] * 1e6:.2f} uW, counts={counts[idx]}\")\n",
    "\n",
    "laserlogic.set_power(current_power)\n",
    "\n",
    "data = {\n",
    "    \"Laser power (W)\": laser_powers, \n",
    "    \"Powermeter power (W)\": powermeter_powers, \n",
    "    \"UHV objective power (W)\": powermeter_powers * powermeterlogic.calibration_param_uhv, \n",
    "    \"RT objective power (W)\": powermeter_powers * powermeterlogic.calibration_param_rt,\n",
    "    \"Avg. counts\": counts\n",
    "}"
   ]
  },
  {
   "cell_type": "code",
   "execution_count": 30,
   "metadata": {
    "pycharm": {
     "name": "#%%\n"
    }
   },
   "outputs": [
    {
     "name": "stdout",
     "output_type": "stream",
     "text": [
      "Data saved to Z:\\\\Data\\\\20221130_FR0612-F2-2R16_PCB_UHVstage_rotated\\2022\\12\\20221205\\Saturation\\NV_saturation\n"
     ]
    }
   ],
   "source": [
    "fig, fit_result = draw_figure(data)\n",
    "save_data(data, fit_result, fig, tag=\"NV\")"
   ]
  }
 ],
 "metadata": {
  "kernelspec": {
   "display_name": "Qudi",
   "language": "python",
   "name": "qudi"
  },
  "language_info": {
   "codemirror_mode": {
    "name": "ipython",
    "version": "3.6.5"
   },
   "file_extension": ".py",
   "mimetype": "text/x-python",
   "name": "python",
   "nbconvert_exporter": "python",
   "pygments_lexer": "ipython3",
   "version": "3.6.5"
  }
 },
 "nbformat": 4,
 "nbformat_minor": 2
}

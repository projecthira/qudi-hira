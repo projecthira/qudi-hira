{
 "cells": [
  {
   "cell_type": "code",
   "execution_count": 43,
   "metadata": {},
   "outputs": [],
   "source": [
    "import time\n",
    "import matplotlib.pyplot as plt"
   ]
  },
  {
   "cell_type": "code",
   "execution_count": 62,
   "metadata": {},
   "outputs": [
    {
     "name": "stdout",
     "output_type": "stream",
     "text": [
      "Power=0.01, counts=2559.17\n",
      "Power=0.02, counts=598.67\n",
      "Power=0.03, counts=12356.83\n",
      "Power=0.04, counts=13756.67\n",
      "Power=0.05, counts=15739.00\n",
      "Power=0.06, counts=19485.50\n",
      "Power=0.07, counts=28432.67\n",
      "Power=0.08, counts=28826.33\n",
      "Power=0.09, counts=34143.17\n",
      "Power=0.10, counts=37751.67\n"
     ]
    }
   ],
   "source": [
    "count_freq = counterlogic._count_frequency\n",
    "\n",
    "powers = np.linspace(10e-3, 100e-3, 10)\n",
    "counts = np.zeros(len(powers))\n",
    "\n",
    "for idx, power in enumerate(powers):\n",
    "    laserlogic.set_power(power)\n",
    "    \n",
    "    # Wait for laser to settle\n",
    "    time.sleep(3)\n",
    "        \n",
    "    # Sleep for 10s\n",
    "    time.sleep(300 / count_freq)\n",
    "    \n",
    "    counts[idx] = np.mean(counterlogic.countdata_smoothed[0, -150:])\n",
    "    print(f\"Power={power:.2f}, counts={counts[idx]:.2f}\")"
   ]
  },
  {
   "cell_type": "code",
   "execution_count": 61,
   "metadata": {},
   "outputs": [],
   "source": [
    "fig, ax = plt.subplots(figsize=(4, 3))\n",
    "\n",
    "ax.plot(powers, counts, \".-\")\n",
    "ax.set_xlabel(\"Power (in W)\")\n",
    "ax.set_ylabel(\"Mean counts (kcps)\")\n",
    "fig.tight_layout()\n",
    "\n",
    "plt.savefig(\"FR0612-3G6.png\", dpi=300)"
   ]
  },
  {
   "cell_type": "code",
   "execution_count": null,
   "metadata": {},
   "outputs": [],
   "source": []
  }
 ],
 "metadata": {
  "kernelspec": {
   "display_name": "Qudi",
   "language": "python",
   "name": "qudi"
  },
  "language_info": {
   "codemirror_mode": {
    "name": "ipython",
    "version": "3.6.5"
   },
   "file_extension": ".py",
   "mimetype": "text/x-python",
   "name": "python",
   "nbconvert_exporter": "python",
   "pygments_lexer": "ipython3",
   "version": "3.6.5"
  }
 },
 "nbformat": 4,
 "nbformat_minor": 2
}

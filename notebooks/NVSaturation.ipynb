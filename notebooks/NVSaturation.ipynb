{
 "cells": [
  {
   "cell_type": "code",
   "execution_count": 27,
   "metadata": {
    "pycharm": {
     "name": "#%%\n"
    }
   },
   "outputs": [],
   "source": [
    "import os\n",
    "import time\n",
    "import matplotlib.pyplot as plt\n",
    "\n",
    "from collections import OrderedDict\n",
    "import datetime"
   ]
  },
  {
   "cell_type": "code",
   "execution_count": 28,
   "metadata": {
    "pycharm": {
     "name": "#%%\n"
    }
   },
   "outputs": [],
   "source": [
    "def draw_figure(data):\n",
    "    powers, counts = data[\"Power (W)\"], data[\"Avg. counts\"]\n",
    "    \n",
    "    plt.style.use(savelogic.mpl_qudihira_style)\n",
    "\n",
    "    fig, ax = plt.subplots()\n",
    "\n",
    "    ax.plot(powers, counts, \"o--\")\n",
    "    ax.set_xlabel(\"Laser power (in W)\")\n",
    "    ax.set_ylabel(\"Mean counts (kcps)\")\n",
    "\n",
    "    result_linear = fitlogic.make_linear_fit(powers, counts, estimator=fitlogic.estimate_linear)\n",
    "    ax.plot(powers, result_linear.best_fit, '-', label='Linear fit')\n",
    "\n",
    "    result_hyper = fitlogic.make_hyperbolicsaturation_fit(powers, counts, \n",
    "                                                          estimator=fitlogic.estimate_hyperbolicsaturation)\n",
    "    ax.plot(powers, result_hyper.best_fit, '-', label='Hyperbolic Saturation fit')\n",
    "\n",
    "    ax.legend()\n",
    "    fig.tight_layout()\n",
    "    return fig, result_linear, result_hyper\n",
    "    \n",
    "\n",
    "def save_data(data_to_save, result_linear, result_hyper, fig, tag=None):\n",
    "    timestamp = datetime.datetime.now()\n",
    "\n",
    "    parameters = OrderedDict()\n",
    "    parameters[\"Linear fit\"] = result_linear.fit_report()\n",
    "    parameters[\"Hyperbolic fit\"] = result_hyper.fit_report()\n",
    "\n",
    "    data = OrderedDict()\n",
    "    data[\"Power (W)\"] = data_to_save[\"Power (W)\"]\n",
    "    data[\"Avg. counts\"] = data_to_save[\"Avg. counts\"]\n",
    "\n",
    "    filepath = savelogic.get_path_for_module(module_name=\"Saturation\")\n",
    "    \n",
    "    if tag:\n",
    "        filelabel = f\"{tag}_saturation\"\n",
    "    else:\n",
    "        filelabel = \"saturation\"\n",
    "    \n",
    "    print(f\"Data saved to {os.path.join(filepath, filelabel)}\")\n",
    "\n",
    "    savelogic.save_data(data, filepath=filepath, parameters=parameters, filelabel=filelabel, \n",
    "                        timestamp=timestamp, plotfig=fig, delimiter='\\t')"
   ]
  },
  {
   "cell_type": "code",
   "execution_count": 50,
   "metadata": {
    "pycharm": {
     "name": "#%%\n"
    }
   },
   "outputs": [
    {
     "name": "stdout",
     "output_type": "stream",
     "text": [
      "[1/20] Power=0.005 W, counts=240.00\n",
      "[2/20] Power=0.010 W, counts=504.00\n",
      "[3/20] Power=0.015 W, counts=777.00\n",
      "[4/20] Power=0.020 W, counts=1334.00\n",
      "[5/20] Power=0.025 W, counts=1638.00\n",
      "[6/20] Power=0.030 W, counts=2123.00\n",
      "[7/20] Power=0.035 W, counts=2476.00\n",
      "[8/20] Power=0.040 W, counts=2830.00\n",
      "[9/20] Power=0.045 W, counts=3358.00\n",
      "[10/20] Power=0.050 W, counts=3678.00\n",
      "[11/20] Power=0.055 W, counts=4228.00\n",
      "[12/20] Power=0.060 W, counts=4528.00\n",
      "[13/20] Power=0.065 W, counts=4930.00\n",
      "[14/20] Power=0.070 W, counts=5304.00\n",
      "[15/20] Power=0.075 W, counts=5696.00\n",
      "[16/20] Power=0.080 W, counts=5954.00\n",
      "[17/20] Power=0.085 W, counts=6454.00\n",
      "[18/20] Power=0.090 W, counts=6762.00\n",
      "[19/20] Power=0.095 W, counts=7229.00\n",
      "[20/20] Power=0.100 W, counts=7620.00\n"
     ]
    }
   ],
   "source": [
    "count_freq = counterlogic._count_frequency\n",
    "\n",
    "current_power = laser_toptica.get_power()\n",
    "\n",
    "powers = np.linspace(5e-3, 100e-3, 20)\n",
    "counts = np.zeros(len(powers), dtype=int)\n",
    "\n",
    "for idx, power in enumerate(powers):\n",
    "    try: \n",
    "        laserlogic.set_power(power)\n",
    "    except ValueError:\n",
    "        time.sleep(1)\n",
    "        laserlogic.set_power(power)\n",
    "        \n",
    "    # Wait for laser to settle\n",
    "    time.sleep(2)\n",
    "\n",
    "    # Sleep for 5s\n",
    "    time.sleep(150 / count_freq)\n",
    "\n",
    "    counts[idx] = np.mean(counterlogic.countdata_smoothed[0, -75:])\n",
    "    print(f\"[{idx+1}/{len(powers)}] Power={power:.3f} W, counts={counts[idx]:.2f}\")\n",
    "    \n",
    "laserlogic.set_power(current_power)\n",
    "\n",
    "\n",
    "data = {\"Power (W)\": powers, \"Avg. counts\": counts}"
   ]
  },
  {
   "cell_type": "code",
   "execution_count": 51,
   "metadata": {
    "pycharm": {
     "name": "#%%\n"
    }
   },
   "outputs": [
    {
     "name": "stdout",
     "output_type": "stream",
     "text": [
      "Data saved to Z:\\Data\\20220505_FR0612-F2-3B6_uhv\\2022\\05\\20220516\\Saturation\\background_2_saturation\n"
     ]
    }
   ],
   "source": [
    "fig, result_linear, result_hyper = draw_figure(data)\n",
    "save_data(data, result_linear, result_hyper, fig, tag=\"background_2\")"
   ]
  },
  {
   "cell_type": "code",
   "execution_count": null,
   "metadata": {
    "pycharm": {
     "name": "#%%\n"
    }
   },
   "outputs": [],
   "source": []
  }
 ],
 "metadata": {
  "kernelspec": {
   "display_name": "Qudi",
   "language": "python",
   "name": "qudi"
  },
  "language_info": {
   "codemirror_mode": {
    "name": "ipython",
    "version": "3.6.5"
   },
   "file_extension": ".py",
   "mimetype": "text/x-python",
   "name": "python",
   "nbconvert_exporter": "python",
   "pygments_lexer": "ipython3",
   "version": "3.6.5"
  }
 },
 "nbformat": 4,
 "nbformat_minor": 2
}
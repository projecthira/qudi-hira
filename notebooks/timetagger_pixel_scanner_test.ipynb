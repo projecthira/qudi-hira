{
 "cells": [
  {
   "cell_type": "code",
   "execution_count": null,
   "metadata": {},
   "outputs": [],
   "source": [
    "import matplotlib.pyplot as plt"
   ]
  },
  {
   "cell_type": "code",
   "execution_count": null,
   "metadata": {},
   "outputs": [],
   "source": [
    "pixels = 2"
   ]
  },
  {
   "cell_type": "code",
   "execution_count": null,
   "metadata": {},
   "outputs": [],
   "source": [
    "timetagger_pixel_counter.configure(pixels=pixels)"
   ]
  },
  {
   "cell_type": "code",
   "execution_count": null,
   "metadata": {},
   "outputs": [],
   "source": [
    "forward, backward = timetagger_pixel_counter.get_forward_backward_counts(np.array([1, 2, 2, 1, 3, 4, 4, 3]))\n",
    "\n",
    "fig, (ax, ax1) = plt.subplots(ncols=2, sharey=\"row\", figsize=(10, 10))\n",
    "\n",
    "img_forward = ax.imshow(forward, origin=\"lower\")\n",
    "ax.set_title(\"Forward\")\n",
    "fig.colorbar(img_forward, ax=ax, shrink=0.4)\n",
    "\n",
    "img_backward = ax1.imshow(backward, origin=\"lower\")\n",
    "ax1.set_title(\"Backward\")\n",
    "fig.colorbar(img_backward, ax=ax1, shrink=0.4)\n",
    "\n",
    "plt.show()\n",
    "plt.close()\n",
    "# plt.colorbar()"
   ]
  }
 ],
 "metadata": {
  "kernelspec": {
   "display_name": "Qudi",
   "language": "python",
   "name": "qudi"
  },
  "language_info": {
   "codemirror_mode": {
    "name": "ipython",
    "version": "3.6.5"
   },
   "file_extension": ".py",
   "mimetype": "text/x-python",
   "name": "python",
   "nbconvert_exporter": "python",
   "pygments_lexer": "ipython3",
   "version": "3.6.5"
  }
 },
 "nbformat": 4,
 "nbformat_minor": 2
}

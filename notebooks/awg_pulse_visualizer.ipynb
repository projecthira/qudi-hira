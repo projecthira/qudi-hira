{
 "cells": [
  {
   "cell_type": "markdown",
   "metadata": {},
   "source": [
    "# Visualize waveforms generated for the AWG\n",
    "\n",
    "This notebook is used to quickly visualize waveforms that are uploaded to the AWG. Figures generated here can also be saved and used in publication supplementary.\n",
    "\n",
    "Dinesh Pinto (d.pinto@fkf.mpg.de)"
   ]
  },
  {
   "cell_type": "code",
   "execution_count": 1,
   "metadata": {},
   "outputs": [],
   "source": [
    "import pickle\n",
    "import matplotlib.pyplot as plt\n",
    "import numpy as np\n",
    "import os"
   ]
  },
  {
   "cell_type": "code",
   "execution_count": 6,
   "metadata": {},
   "outputs": [],
   "source": [
    "# Enter name of pkl file without channel names\n",
    "waveform_name = 'pulsedODMRnoiq' \n",
    "folder = os.path.join(\"C:\\\\\", \"qudi-hira\", \"saved_pulsed_assets\", \"waveform\")"
   ]
  },
  {
   "cell_type": "code",
   "execution_count": 3,
   "metadata": {},
   "outputs": [
    {
     "data": {
      "text/plain": [
       "['cwODMR_a_ch0.pkl', 'cwODMR_a_ch1.pkl', 'cwODMR_d_ch0.pkl', 'cwODMR_d_ch1.pkl', 'cwODMR_d_ch2.pkl', 'cwODMR_d_ch3.pkl', 'HILO50_a_ch0.pkl', 'HILO50_a_ch1.pkl', 'HILO50_a_ch2.pkl', 'HILO50_a_ch3.pkl', 'HILO50_d_ch0.pkl', 'HILO50_d_ch1.pkl', 'HILO50_d_ch2.pkl', 'HILO50_d_ch3.pkl', 'HILO50_d_ch4.pkl', 'HILO50_d_ch5.pkl', 'HILO_a_ch0.pkl', 'HILO_a_ch1.pkl', 'HILO_a_ch2.pkl', 'HILO_a_ch3.pkl', 'HILO_d_ch0.pkl', 'HILO_d_ch1.pkl', 'HILO_d_ch2.pkl', 'HILO_d_ch3.pkl', 'HILO_d_ch4.pkl', 'HILO_d_ch5.pkl', 'laser_empty_a_ch0.pkl', 'laser_empty_a_ch1.pkl', 'laser_empty_a_ch2.pkl', 'laser_empty_a_ch3.pkl', 'laser_empty_d_ch0.pkl', 'laser_empty_d_ch1.pkl', 'laser_empty_d_ch2.pkl', 'laser_empty_d_ch3.pkl', 'laser_empty_d_ch4.pkl', 'laser_empty_d_ch5.pkl', 'MW_trig_a_ch0.pkl', 'MW_trig_a_ch1.pkl', 'MW_trig_a_ch2.pkl', 'MW_trig_a_ch3.pkl', 'MW_trig_d_ch0.pkl', 'MW_trig_d_ch1.pkl', 'MW_trig_d_ch2.pkl', 'MW_trig_d_ch3.pkl', 'MW_trig_d_ch4.pkl', 'MW_trig_d_ch5.pkl', 'ODMR_a_ch0.pkl', 'ODMR_a_ch1.pkl', 'ODMR_d_ch0.pkl', 'ODMR_d_ch2.pkl', 'ODMR_d_ch5.pkl', 'pulsedODMRnoiq.png', 'pulsedODMRnoiq_a_ch0.pkl', 'pulsedODMRnoiq_d_ch0.pkl', 'pulsedODMRnoiq_d_ch1.pkl', 'pulsedODMRnoiq_d_ch2.pkl', 'pulsedODMRnoiq_d_ch5.pkl', 'pulsedODMR_a_ch0.pkl', 'pulsedODMR_a_ch1.pkl', 'pulsedODMR_d_ch0.pkl', 'pulsedODMR_d_ch1.pkl', 'pulsedODMR_d_ch2.pkl', 'pulsedODMR_iq2_a_ch0.pkl', 'pulsedODMR_iq2_a_ch1.pkl', 'pulsedODMR_iq2_a_ch2.pkl', 'pulsedODMR_iq2_a_ch3.pkl', 'pulsedODMR_iq2_d_ch0.pkl', 'pulsedODMR_iq2_d_ch1.pkl', 'pulsedODMR_iq2_d_ch2.pkl', 'pulsedODMR_iq2_d_ch3.pkl', 'pulsedODMR_iq2_d_ch4.pkl', 'pulsedODMR_iq2_d_ch5.pkl', 'qudi_benchmark_chunk_a_ch0.pkl', 'qudi_benchmark_chunk_a_ch1.pkl', 'qudi_benchmark_chunk_a_ch2.pkl', 'qudi_benchmark_chunk_a_ch3.pkl', 'qudi_benchmark_chunk_d_ch0.pkl', 'qudi_benchmark_chunk_d_ch1.pkl', 'qudi_benchmark_chunk_d_ch2.pkl', 'qudi_benchmark_chunk_d_ch3.pkl', 'qudi_benchmark_chunk_d_ch4.pkl', 'qudi_benchmark_chunk_d_ch5.pkl', 'Simesuod_a_ch0.pkl', 'Simesuod_a_ch1.pkl', 'Simesuod_a_ch2.pkl', 'Simesuod_a_ch3.pkl', 'Simesuod_d_ch0.pkl', 'Simesuod_d_ch1.pkl', 'Simesuod_d_ch2.pkl', 'Simesuod_d_ch3.pkl', 'Simesuod_d_ch4.pkl', 'Simesuod_d_ch5.pkl', 'Simesuod_ens_a_ch0.pkl', 'Simesuod_ens_a_ch1.pkl', 'Simesuod_ens_a_ch2.pkl', 'Simesuod_ens_a_ch3.pkl', 'Simesuod_ens_d_ch0.pkl', 'Simesuod_ens_d_ch1.pkl', 'Simesuod_ens_d_ch2.pkl', 'Simesuod_ens_d_ch3.pkl', 'Simesuod_ens_d_ch4.pkl', 'Simesuod_ens_d_ch5.pkl', 'something_a_ch0.pkl', 'something_a_ch1.pkl', 'something_a_ch2.pkl', 'something_a_ch3.pkl', 'something_d_ch0.pkl', 'something_d_ch1.pkl', 'something_d_ch2.pkl', 'something_d_ch3.pkl', 'something_d_ch4.pkl', 'something_d_ch5.pkl', 'S_ens_a_ch0.pkl', 'S_ens_a_ch1.pkl', 'S_ens_a_ch2.pkl', 'S_ens_a_ch3.pkl', 'S_ens_d_ch0.pkl', 'S_ens_d_ch1.pkl', 'S_ens_d_ch2.pkl', 'S_ens_d_ch3.pkl', 'S_ens_d_ch4.pkl', 'S_ens_d_ch5.pkl']"
      ]
     },
     "execution_count": 3,
     "metadata": {},
     "output_type": "execute_result"
    }
   ],
   "source": [
    "os.listdir(folder)"
   ]
  },
  {
   "cell_type": "code",
   "execution_count": 7,
   "metadata": {
    "scrolled": false
   },
   "outputs": [
    {
     "name": "stdout",
     "output_type": "stream",
     "text": [
      "\"a_ch0\" is a null channel.\n",
      "[Errno 2] No such file or directory: 'C:\\\\qudi-hira\\\\saved_pulsed_assets\\\\waveform\\\\pulsedODMRnoiq_a_ch1.pkl'\n",
      "[Errno 2] No such file or directory: 'C:\\\\qudi-hira\\\\saved_pulsed_assets\\\\waveform\\\\pulsedODMRnoiq_a_ch2.pkl'\n",
      "[Errno 2] No such file or directory: 'C:\\\\qudi-hira\\\\saved_pulsed_assets\\\\waveform\\\\pulsedODMRnoiq_a_ch3.pkl'\n",
      "[Errno 2] No such file or directory: 'C:\\\\qudi-hira\\\\saved_pulsed_assets\\\\waveform\\\\pulsedODMRnoiq_d_ch3.pkl'\n",
      "[Errno 2] No such file or directory: 'C:\\\\qudi-hira\\\\saved_pulsed_assets\\\\waveform\\\\pulsedODMRnoiq_d_ch4.pkl'\n"
     ]
    }
   ],
   "source": [
    "#%matplotlib notebook\n",
    "\n",
    "keys = ['a_ch0', 'a_ch1', 'a_ch2', 'a_ch3', 'd_ch0', 'd_ch1', 'd_ch2', 'd_ch3', 'd_ch4', 'd_ch5']\n",
    "labels = {\n",
    "    'a_ch0': \"In-phase\", \n",
    "    'a_ch1': \"Quadrature\", \n",
    "    'a_ch2': \"\", \n",
    "    'a_ch3': \"\", \n",
    "    'd_ch0': \"Laser\", \n",
    "    'd_ch1': \"Readout\", \n",
    "    'd_ch2': \"Switch\", \n",
    "    'd_ch3': \"\", \n",
    "    'd_ch4': \"\", \n",
    "    'd_ch5': \"\"\n",
    "}\n",
    "\n",
    "# Initialize all channels to None\n",
    "channels = dict.fromkeys(keys, None) \n",
    "\n",
    "for key in list(channels):\n",
    "    try:\n",
    "        filename = f\"{waveform_name}_{key}.pkl\"\n",
    "        filepath = os.path.join(folder, filename)\n",
    "        with open(filepath, 'rb') as f:\n",
    "            channels[key] = pickle.load(f)\n",
    "        if not np.any(channels[key]):\n",
    "            # Delete channels with only zeros\n",
    "            print(f'\"{key}\" is a null channel.')\n",
    "            del channels[key]  \n",
    "    except FileNotFoundError as exc:\n",
    "        # Delete channels that don't exist on disk\n",
    "        print(exc) \n",
    "        del channels[key]\n",
    "\n",
    "\n",
    "if len(channels) == 1: # Single channel plotting\n",
    "    size_x, size_y = 8, 5\n",
    "else:\n",
    "    size_x, size_y = len(channels) * 1.5, len(channels) * 1.5\n",
    "\n",
    "fig, ax = plt.subplots(nrows=len(channels), sharex=True, figsize=(size_x, size_y))\n",
    "\n",
    "# Correct for matplotlib's (silly) behavior for single plots\n",
    "if not isinstance(ax, np.ndarray): \n",
    "    ax = [ax]\n",
    "\n",
    "    \n",
    "limit1, limit2 = 0, 100000\n",
    "\n",
    "for idx, key in enumerate(channels):\n",
    "    #time_in_us = np.linspace(0, len(channels[key][:limit]) / 1.25e9, len(channels[key][limit:])) * 1e6\n",
    "    time_in_us = np.linspace(0, len(channels[key][limit1:limit2]) / 1.25e9, len(channels[key][limit1:limit2])) * 1e6\n",
    "    \n",
    "    if key.startswith('a_'):\n",
    "        ax[idx].plot(time_in_us, channels[key][limit1:limit2], \".-\", linewidth=0.2, color=\"C0\")\n",
    "    elif key.startswith('d_ch1'):\n",
    "        ax[idx].plot(time_in_us, channels[key][limit1:limit2], \"-\", linewidth=0.2, color=\"C0\")\n",
    "    else:\n",
    "        ax[idx].plot(time_in_us, channels[key][limit1:limit2],\"-\", linewidth=0.5, color=\"C1\")\n",
    "    ax[idx].set_title(f'{key} ({labels[key]})')\n",
    "\n",
    "fig.tight_layout()\n",
    "fig.savefig(os.path.join(folder, f\"{waveform_name}.png\"), dpi=600)"
   ]
  },
  {
   "cell_type": "code",
   "execution_count": 6,
   "metadata": {},
   "outputs": [
    {
     "name": "stderr",
     "output_type": "stream",
     "text": [
      "Traceback (most recent call last):\n",
      "  File \"C:\\qudi-hira\\logic\\jupyterkernel\\qzmqkernel.py\", line 490, in run_cell\n",
      "    code_ast = compiler.ast_parse(cell, filename=cell_name)\n",
      "  File \"C:\\qudi-hira\\logic\\jupyterkernel\\compilerop.py\", line 103, in ast_parse\n",
      "    return compile(source, filename, symbol, self.flags | PyCF_ONLY_AST, 1)\n",
      "  File \"<ipython-input-6-501db1dda3c3>\", line 1\n",
      "    %matplotlib notebook\n",
      "    ^\n",
      "SyntaxError: invalid syntax\n"
     ]
    }
   ],
   "source": [
    "%matplotlib notebook\n",
    "\n",
    "keys = ['a_ch0', 'a_ch1', 'a_ch2', 'a_ch3', 'd_ch0', 'd_ch1', 'd_ch2', 'd_ch3', 'd_ch4', 'd_ch5']\n",
    "labels = {\n",
    "    'a_ch0': \"In-phase\", \n",
    "    'a_ch1': \"Quadrature\", \n",
    "    'a_ch2': \"\", \n",
    "    'a_ch3': \"\", \n",
    "    'd_ch0': \"Laser\", \n",
    "    'd_ch1': \"Readout\", \n",
    "    'd_ch2': \"Switch\", \n",
    "    'd_ch3': \"\", \n",
    "    'd_ch4': \"\", \n",
    "    'd_ch5': \"\"\n",
    "}\n",
    "\n",
    "# Initialize all channels to None\n",
    "channels = dict.fromkeys(keys, None) \n",
    "\n",
    "for key in list(channels):\n",
    "    try:\n",
    "        filename = f\"{waveform_name}_{key}.pkl\"\n",
    "        filepath = os.path.join(folder, filename)\n",
    "        with open(filepath, 'rb') as f:\n",
    "            channels[key] = pickle.load(f)\n",
    "        if not np.any(channels[key]):\n",
    "            # Delete channels with only zeros\n",
    "            print(f'\"{key}\" is a null channel.')\n",
    "            del channels[key]  \n",
    "    except FileNotFoundError as exc:\n",
    "        # Delete channels that don't exist on disk\n",
    "        print(exc) \n",
    "        del channels[key]\n",
    "\n",
    "\n",
    "if len(channels) == 1: # Single channel plotting\n",
    "    size_x, size_y = 8, 5\n",
    "else:\n",
    "    size_x, size_y = len(channels) * 1.5, len(channels) * 1.5\n",
    "\n",
    "fig, ax = plt.subplots(nrows=len(channels), sharex=True, figsize=(size_x, size_y))\n",
    "\n",
    "# Correct for matplotlib's (silly) behavior for single plots\n",
    "if not isinstance(ax, np.ndarray): \n",
    "    ax = [ax]\n",
    "\n",
    "    \n",
    "limit = 0\n",
    "\n",
    "for idx, key in enumerate(channels):\n",
    "    #time_in_us = np.linspace(0, len(channels[key][:limit]) / 1.25e9, len(channels[key][limit:])) * 1e6\n",
    "    time_in_us = np.linspace(0, len(channels[key][limit:]), len(channels[key][limit:]))\n",
    "    \n",
    "    if key.startswith('a_'):\n",
    "        ax[idx].plot(time_in_us, channels[key][limit:], \".-\", linewidth=0.2, color=\"C0\")\n",
    "    elif key.startswith('d_ch1'):\n",
    "        ax[idx].plot(time_in_us, channels[key][limit:], \"-\", linewidth=0.2, color=\"C0\")\n",
    "    else:\n",
    "        ax[idx].plot(time_in_us, channels[key][limit:],\"-\", linewidth=0.5, color=\"C1\")\n",
    "    ax[idx].set_title(f'{key} ({labels[key]})')\n",
    "\n",
    "fig.tight_layout()"
   ]
  }
 ],
 "metadata": {
  "kernelspec": {
   "display_name": "Qudi",
   "language": "python",
   "name": "qudi"
  },
  "language_info": {
   "codemirror_mode": {
    "name": "ipython",
    "version": "3.6.5"
   },
   "file_extension": ".py",
   "mimetype": "text/x-python",
   "name": "python",
   "nbconvert_exporter": "python",
   "pygments_lexer": "ipython3",
   "version": "3.6.5"
  }
 },
 "nbformat": 4,
 "nbformat_minor": 2
}

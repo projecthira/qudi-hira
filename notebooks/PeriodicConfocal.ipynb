{
 "cells": [
  {
   "cell_type": "code",
   "execution_count": 9,
   "metadata": {
    "pycharm": {
     "name": "#%%\n"
    }
   },
   "outputs": [],
   "source": [
    "import time"
   ]
  },
  {
   "cell_type": "code",
   "execution_count": 10,
   "metadata": {
    "pycharm": {
     "name": "#%%\n"
    }
   },
   "outputs": [],
   "source": [
    "CONFOCAL_TIMER = 300\n",
    "AUTOCORR_TIMER = 3000\n",
    "SAVE_TIMER = 5\n",
    "NUM_INDEXES = 10"
   ]
  },
  {
   "cell_type": "code",
   "execution_count": 11,
   "metadata": {
    "pycharm": {
     "name": "#%%\n"
    }
   },
   "outputs": [
    {
     "name": "stdout",
     "output_type": "stream",
     "text": [
      "Nametag is idx_0, Main=1.78e-06, Prep=2e-06\n",
      "scanning...waiting for 300s\n",
      "scan complete, saving\n",
      "starting autocorr...waiting for 3000s\n",
      "autocorr complete, saving\n",
      "Nametag is idx_1, Main=2.32e-06, Prep=2.61e-06\n",
      "scanning...waiting for 300s\n",
      "scan complete, saving\n",
      "starting autocorr...waiting for 3000s\n",
      "autocorr complete, saving\n",
      "Nametag is idx_2, Main=2.89e-06, Prep=3.27e-06\n",
      "scanning...waiting for 300s\n",
      "scan complete, saving\n",
      "starting autocorr...waiting for 3000s\n",
      "autocorr complete, saving\n",
      "Nametag is idx_3, Main=3.51e-06, Prep=3.98e-06\n",
      "scanning...waiting for 300s\n",
      "scan complete, saving\n",
      "starting autocorr...waiting for 3000s\n",
      "autocorr complete, saving\n",
      "Nametag is idx_4, Main=4.2e-06, Prep=4.78e-06\n",
      "scanning...waiting for 300s\n",
      "scan complete, saving\n",
      "starting autocorr...waiting for 3000s\n",
      "autocorr complete, saving\n",
      "Nametag is idx_5, Main=5.04e-06, Prep=5.73e-06\n",
      "scanning...waiting for 300s\n",
      "scan complete, saving\n",
      "starting autocorr...waiting for 3000s\n",
      "autocorr complete, saving\n",
      "Nametag is idx_6, Main=5.98e-06, Prep=6.83e-06\n",
      "scanning...waiting for 300s\n",
      "scan complete, saving\n",
      "starting autocorr...waiting for 3000s\n",
      "autocorr complete, saving\n",
      "Nametag is idx_7, Main=7.11e-06, Prep=8.07e-06\n",
      "scanning...waiting for 300s\n",
      "scan complete, saving\n",
      "starting autocorr...waiting for 3000s\n",
      "autocorr complete, saving\n",
      "Nametag is idx_8, Main=8.27e-06, Prep=9.37e-06\n",
      "scanning...waiting for 300s\n",
      "scan complete, saving\n",
      "starting autocorr...waiting for 3000s\n",
      "autocorr complete, saving\n",
      "Nametag is idx_9, Main=9.6e-06, Prep=1.09e-05\n",
      "scanning...waiting for 300s\n",
      "scan complete, saving\n",
      "starting autocorr...waiting for 3000s\n",
      "autocorr complete, saving\n",
      "Exiting\n"
     ]
    }
   ],
   "source": [
    "for idx in range(NUM_INDEXES):    \n",
    "    # Get pressures\n",
    "    main_pressure = str(pressuremonitorlogic.data['main'][-1])\n",
    "    prep_pressure = str(pressuremonitorlogic.data['prep'][-1])\n",
    "\n",
    "    nametag = f\"idx_{idx}\"\n",
    "    print(f\"Nametag is {nametag}, Main={main_pressure}, Prep={prep_pressure}\")\n",
    "\n",
    "    # Start confocal\n",
    "    confocalgui._mw.save_tag_LineEdit.setText(nametag)\n",
    "    confocalgui.xy_scan_clicked()\n",
    "\n",
    "    print(f\"scanning...waiting for {CONFOCAL_TIMER}s\")\n",
    "    time.sleep(CONFOCAL_TIMER)\n",
    "\n",
    "    print(\"scan complete, saving\")\n",
    "    # confocalgui.save_xy_scan_data()\n",
    "    time.sleep(SAVE_TIMER)\n",
    "\n",
    "    # Start autocorr\n",
    "    print(f\"starting autocorr...waiting for {AUTOCORR_TIMER}s\")\n",
    "    autocorrelationgui.start_clicked()\n",
    "    autocorrelationgui._mw.save_tag_LineEdit.setText(nametag)\n",
    "    time.sleep(AUTOCORR_TIMER)\n",
    "\n",
    "    print(\"autocorr complete, saving\")\n",
    "    autocorrelationgui.stop_clicked()\n",
    "    autocorrelationgui.save_data()\n",
    "    time.sleep(SAVE_TIMER)\n",
    "    \n",
    "print(\"Exiting\")"
   ]
  },
  {
   "cell_type": "code",
   "execution_count": null,
   "metadata": {
    "pycharm": {
     "name": "#%%\n"
    }
   },
   "outputs": [],
   "source": [
    "nametag"
   ]
  }
 ],
 "metadata": {
  "kernelspec": {
   "display_name": "Qudi",
   "language": "python",
   "name": "qudi"
  },
  "language_info": {
   "codemirror_mode": {
    "name": "ipython",
    "version": "3.6.5"
   },
   "file_extension": ".py",
   "mimetype": "text/x-python",
   "name": "python",
   "nbconvert_exporter": "python",
   "pygments_lexer": "ipython3",
   "version": "3.6.5"
  }
 },
 "nbformat": 4,
 "nbformat_minor": 2
}
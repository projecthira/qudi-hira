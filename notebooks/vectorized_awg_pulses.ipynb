{
 "cells": [
  {
   "cell_type": "code",
   "execution_count": 5,
   "metadata": {},
   "outputs": [],
   "source": [
    "import numpy as np\n",
    "import matplotlib.pyplot as plt"
   ]
  },
  {
   "cell_type": "code",
   "execution_count": 6,
   "metadata": {},
   "outputs": [],
   "source": [
    "sample_rate = 1.25e9\n",
    "\n",
    "null_pulse_length = 40e-9\n",
    "delay_length = 1e-6\n",
    "pi_pulse_length = 200e-9\n",
    "laser_readout_length = 300e-9\n",
    "cw_mw_frequency = 2.8e9\n",
    "\n",
    "freq_list = np.linspace(2.7e9, 2.9e9, 100)\n",
    "norm_freq_list = (cw_mw_frequency - freq_list) / sample_rate\n",
    "\n",
    "freq_rep = 100"
   ]
  },
  {
   "cell_type": "code",
   "execution_count": 7,
   "metadata": {},
   "outputs": [
    {
     "name": "stdout",
     "output_type": "stream",
     "text": [
      "758 ms ± 12.9 ms per loop (mean ± std. dev. of 7 runs, 1 loop each)\n"
     ]
    }
   ],
   "source": [
    "%%timeit\n",
    "\n",
    "single_pulse_length = laser_readout_length + delay_length + pi_pulse_length + 2 * null_pulse_length\n",
    "single_pulse_samples = int(single_pulse_length * sample_rate)\n",
    "\n",
    "single_freq_pulse_length = null_pulse_length + single_pulse_length * freq_rep\n",
    "single_freq_pulse_samples = int(single_freq_pulse_length * sample_rate)\n",
    "\n",
    "single_sweep_pulse_samples = int(single_freq_pulse_samples * len(freq_list))\n",
    "\n",
    "delay_pulse_samples = int(np.floor(sample_rate * delay_length))\n",
    "switch_pulse_samples = int(np.floor(sample_rate * pi_pulse_length))\n",
    "null_pulse_samples = int(np.floor(null_pulse_length * sample_rate))\n",
    "laser_readout_pulse_samples = int(np.floor(sample_rate * laser_readout_length))\n",
    "\n",
    "\n",
    "laser_sequence = np.zeros(single_sweep_pulse_samples)\n",
    "readout_sequence = np.zeros(single_sweep_pulse_samples)\n",
    "switch_sequence = np.ones(single_sweep_pulse_samples)\n",
    "\n",
    "i_sequence = np.zeros(single_sweep_pulse_samples)\n",
    "q_sequence = np.zeros(single_sweep_pulse_samples)\n",
    "\n",
    "\n",
    "current_freq_idx = 0\n",
    "for norm_freq in norm_freq_list:\n",
    "    end_freq_idx = current_freq_idx + single_freq_pulse_samples\n",
    "    i_sequence[current_freq_idx:end_freq_idx] = np.sin(2 * np.pi * norm_freq * np.arange(single_freq_pulse_samples))\n",
    "    q_sequence[current_freq_idx:end_freq_idx] = np.sin(2 * np.pi * norm_freq * np.arange(single_freq_pulse_samples) - np.pi/2)\n",
    "\n",
    "    for _ in range(freq_rep):\n",
    "        single_freq_start = current_freq_idx + null_pulse_samples * 2\n",
    "        \n",
    "        laser_start = single_freq_start\n",
    "        laser_stop = laser_start + laser_readout_pulse_samples\n",
    "        \n",
    "        switch_start = single_freq_start + delay_pulse_samples\n",
    "        switch_stop = switch_start + switch_pulse_samples\n",
    "        \n",
    "        laser_sequence[laser_start:laser_stop] = np.ones(laser_stop - laser_start)\n",
    "        readout_sequence[laser_start:laser_stop] = np.ones(laser_stop - laser_start)\n",
    "        switch_sequence[switch_start:switch_stop] = np.zeros(switch_stop - switch_start)\n",
    "        \n",
    "        current_freq_idx += single_pulse_samples"
   ]
  },
  {
   "cell_type": "code",
   "execution_count": 8,
   "metadata": {},
   "outputs": [
    {
     "ename": "NameError",
     "evalue": "name 'single_sweep_pulse_samples' is not defined",
     "output_type": "error",
     "traceback": [
      "\u001b[1;31m---------------------------------------------------------------------------\u001b[0m",
      "\u001b[1;31mNameError\u001b[0m                                 Traceback (most recent call last)",
      "\u001b[1;32m<ipython-input-8-595d528d1f5e>\u001b[0m in \u001b[0;36m<module>\u001b[1;34m()\u001b[0m\n\u001b[1;32m----> 1\u001b[1;33m \u001b[0msingle_sweep_pulse_samples\u001b[0m\u001b[1;33m\u001b[0m\u001b[0m\n\u001b[0m",
      "\u001b[1;31mNameError\u001b[0m: name 'single_sweep_pulse_samples' is not defined"
     ]
    }
   ],
   "source": [
    "single_sweep_pulse_samples"
   ]
  },
  {
   "cell_type": "code",
   "execution_count": null,
   "metadata": {},
   "outputs": [],
   "source": [
    "%matplotlib notebook\n",
    "fig, (ax, ax2, ax3, ax4, ax5) = plt.subplots(nrows=5, sharex=True)\n",
    "\n",
    "ax.plot(i_sequence)\n",
    "ax2.plot(q_sequence)\n",
    "ax3.plot(laser_sequence)\n",
    "ax4.plot(switch_sequence)\n",
    "ax5.plot(readout_sequence)"
   ]
  },
  {
   "cell_type": "code",
   "execution_count": null,
   "metadata": {},
   "outputs": [],
   "source": [
    "int(np.floor(delay_length * sample_rate))"
   ]
  }
 ],
 "metadata": {
  "kernelspec": {
   "display_name": "qudi",
   "language": "python",
   "name": "qudi"
  },
  "language_info": {
   "codemirror_mode": {
    "name": "ipython",
    "version": 3
   },
   "file_extension": ".py",
   "mimetype": "text/x-python",
   "name": "python",
   "nbconvert_exporter": "python",
   "pygments_lexer": "ipython3",
   "version": "3.6.5"
  }
 },
 "nbformat": 4,
 "nbformat_minor": 2
}

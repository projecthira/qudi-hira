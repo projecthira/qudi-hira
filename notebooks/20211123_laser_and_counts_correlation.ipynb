{
 "cells": [
  {
   "cell_type": "code",
   "execution_count": 7,
   "metadata": {},
   "outputs": [],
   "source": [
    "import time\n",
    "import numpy as np\n",
    "import matplotlib.pyplot as plt\n",
    "from tqdm import tqdm\n",
    "import os"
   ]
  },
  {
   "cell_type": "code",
   "execution_count": 148,
   "metadata": {},
   "outputs": [],
   "source": [
    "FOLDER_PATH = \"Z:\\\\Data\\\\20211124_Laser_Testing\\\\At_objective\\\\\"\n",
    "TIMESTAMP = \"20211124-1458-\""
   ]
  },
  {
   "cell_type": "code",
   "execution_count": 149,
   "metadata": {},
   "outputs": [
    {
     "name": "stdout",
     "output_type": "stream",
     "text": [
      "Laser = 0.10005299999999999\n",
      "Powermeter = 0.000142789955\n"
     ]
    }
   ],
   "source": [
    "print(f\"Laser = {laser_toptica.get_power()}\")\n",
    "print(f\"Powermeter = {powermeter.get_power()}\")"
   ]
  },
  {
   "cell_type": "code",
   "execution_count": 150,
   "metadata": {},
   "outputs": [
    {
     "name": "stderr",
     "output_type": "stream",
     "text": [
      "100%|#########9| 499/500 [05:10<00:00,  1.55it/s]"
     ]
    }
   ],
   "source": [
    "powers, laser_powers, counts = [], [], []\n",
    "\n",
    "for i in tqdm(range(500)):\n",
    "    time.sleep(0.4)\n",
    "    powers.append(powermeter.get_power())\n",
    "    laser_powers.append(laser_toptica.get_power())\n",
    "    # counts.append(counterlogic.countdata[0, -1])"
   ]
  },
  {
   "cell_type": "code",
   "execution_count": 86,
   "metadata": {},
   "outputs": [],
   "source": [
    "def pct_change(arr):\n",
    "    return (np.max(arr) - np.min(arr)) / np.mean(arr) * 100"
   ]
  },
  {
   "cell_type": "code",
   "execution_count": 123,
   "metadata": {},
   "outputs": [
    {
     "data": {
      "text/plain": [
       "6.562946024905375"
      ]
     },
     "execution_count": 123,
     "metadata": {},
     "output_type": "execute_result"
    }
   ],
   "source": [
    "pct_change(powers)"
   ]
  },
  {
   "cell_type": "code",
   "execution_count": 124,
   "metadata": {},
   "outputs": [],
   "source": [
    "plt.close('all')"
   ]
  },
  {
   "cell_type": "code",
   "execution_count": 151,
   "metadata": {},
   "outputs": [
    {
     "name": "stderr",
     "output_type": "stream",
     "text": [
      "\r",
      "100%|##########| 500/500 [05:11<00:00,  1.55it/s]\r",
      "100%|##########| 500/500 [05:11<00:00,  1.61it/s]\n"
     ]
    }
   ],
   "source": [
    "x = np.linspace(0, 300, len(powers))\n",
    "\n",
    "fig, (ax1, ax2) = plt.subplots(nrows=2)\n",
    "\n",
    "ax1.plot(x, powers, color=\"C0\", label=\"Powermeter\")\n",
    "ax1.axhline(np.mean(powers), color=\"C0\")\n",
    "ax1.axhline(np.mean(powers) + np.std(powers) , linestyle=\"--\", color=\"C0\")\n",
    "ax1.axhline(np.mean(powers) - np.std(powers), linestyle=\"--\", color=\"C0\")\n",
    "ax1.set_xlabel(\"Time (s)\")\n",
    "ax1.set_ylabel(\"Power at detector (W)\")\n",
    "\n",
    "ax2.plot(x, laser_powers, color=\"C1\", label=\"Laser power\")\n",
    "ax2.axhline(np.mean(laser_powers), color=\"C1\")\n",
    "ax2.axhline(np.mean(laser_powers) + np.std(laser_powers) , linestyle=\"--\", color=\"C1\")\n",
    "ax2.axhline(np.mean(laser_powers) - np.std(laser_powers), linestyle=\"--\", color=\"C1\")\n",
    "ax2.set_ylabel(\"Laser Power (W)\")\n",
    "ax2.set_xlabel(\"Time (s)\")\n",
    "\n",
    "fig.legend()\n",
    "\n",
    "plt.savefig(os.path.join(FOLDER_PATH, TIMESTAMP + \"powermeter_and_laserpower_rot5_100mW.png\"), dpi=600)"
   ]
  },
  {
   "cell_type": "code",
   "execution_count": 152,
   "metadata": {},
   "outputs": [],
   "source": [
    "np.savetxt(os.path.join(FOLDER_PATH, TIMESTAMP + \"powermeter_rotated_rot5_100mW.txt\"), powers)\n",
    "np.savetxt(os.path.join(FOLDER_PATH, TIMESTAMP + \"laserpower_rotated_rot5_100mW.txt\"), laser_powers)"
   ]
  },
  {
   "cell_type": "code",
   "execution_count": null,
   "metadata": {},
   "outputs": [],
   "source": [
    "fig, (ax1, ax2) = plt.subplots(nrows=2)\n",
    "ax1.plot(powers, color=\"C0\", label=\"Laser\")\n",
    "ax1.axhline(np.mean(powers), color=\"C0\")\n",
    "ax1.axhline(np.mean(powers) + np.std(powers) , linestyle=\"--\", color=\"C0\")\n",
    "ax1.axhline(np.mean(powers) - np.std(powers), linestyle=\"--\", color=\"C0\")\n",
    "\n",
    "ax2.plot(counts, color=\"C1\", label=\"Counts\")\n",
    "ax2.axhline(np.mean(counts), color=\"C1\")\n",
    "ax2.axhline(np.mean(counts) + np.std(counts) , linestyle=\"--\", color=\"C1\")\n",
    "ax2.axhline(np.mean(counts) - np.std(counts), linestyle=\"--\", color=\"C1\")\n",
    "fig.legend()\n",
    "plt.show()"
   ]
  },
  {
   "cell_type": "code",
   "execution_count": null,
   "metadata": {},
   "outputs": [],
   "source": [
    "np.corrcoef(powers, counts)"
   ]
  },
  {
   "cell_type": "code",
   "execution_count": 75,
   "metadata": {},
   "outputs": [],
   "source": [
    "powers50 = np.genfromtxt(os.path.join(\"Z:\\\\Data\\\\20211124_Laser_Testing\\\\Post_alignment\\\\\", \"20211124-1206-laserpower_50mW.txt\"))"
   ]
  },
  {
   "cell_type": "code",
   "execution_count": 82,
   "metadata": {},
   "outputs": [
    {
     "data": {
      "text/plain": [
       "0.0027305486427608317"
      ]
     },
     "execution_count": 82,
     "metadata": {},
     "output_type": "execute_result"
    }
   ],
   "source": [
    "pct_change(powers50)"
   ]
  }
 ],
 "metadata": {
  "kernelspec": {
   "display_name": "Qudi",
   "language": "python",
   "name": "qudi"
  },
  "language_info": {
   "codemirror_mode": {
    "name": "ipython",
    "version": "3.6.5"
   },
   "file_extension": ".py",
   "mimetype": "text/x-python",
   "name": "python",
   "nbconvert_exporter": "python",
   "pygments_lexer": "ipython3",
   "version": "3.6.5"
  }
 },
 "nbformat": 4,
 "nbformat_minor": 2
}

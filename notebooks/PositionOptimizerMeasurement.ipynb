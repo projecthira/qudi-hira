{
 "cells": [
  {
   "cell_type": "code",
   "execution_count": 1,
   "metadata": {},
   "outputs": [
    {
     "name": "stderr",
     "output_type": "stream",
     "text": [
      "Traceback (most recent call last):\n",
      "  File \"C:\\qudi-hira\\logic\\jupyterkernel\\qzmqkernel.py\", line 679, in run_code\n",
      "    exec(code_obj, self.user_global_ns, self.user_ns)\n",
      "  File \"<ipython-input-1-ad12815c7f21>\", line 9, in <module>\n",
      "    optimized_positions[idx][0] = optimizerlogic_ambient.optim_pos_x\n",
      "IndexError: index 5 is out of bounds for axis 0 with size 5\n",
      "Traceback (most recent call last):\n",
      "  File \"C:\\qudi-hira\\logic\\jupyterkernel\\qzmqkernel.py\", line 679, in run_code\n",
      "    exec(code_obj, self.user_global_ns, self.user_ns)\n",
      "  File \"<ipython-input-141-4cc4db4c1f50>\", line 9, in <module>\n",
      "    optimized_positions[idx][0] = optimizerlogic_ambient.optim_pos_x\n",
      "IndexError: index 5 is out of bounds for axis 0 with size 5\n"
     ]
    }
   ],
   "source": [
    "optimized_positions = np.zeros((6, 3))\n",
    "\n",
    "for idx in range(5):\n",
    "    confocalgui_ambient.refocus_clicked()\n",
    "    logging.warning(f\"Refocusing {idx}\")\n",
    "\n",
    "    time.sleep(120)\n",
    "\n",
    "    optimized_positions[idx][0] = optimizerlogic_ambient.optim_pos_x\n",
    "    optimized_positions[idx][1] = optimizerlogic_ambient.optim_pos_y\n",
    "    optimized_positions[idx][2] = optimizerlogic_ambient.optim_pos_z\n",
    "    \n",
    "    logging.warning(\"Waiting for next point\")\n",
    "    time.sleep(60)"
   ]
  },
  {
   "cell_type": "code",
   "execution_count": 3,
   "metadata": {},
   "outputs": [
    {
     "data": {
      "text/plain": [
       "array([[0.00000000e+00, 0.00000000e+00, 0.00000000e+00],\n",
       "       [3.43827438e-05, 9.13976768e-06, 4.71517473e-06],\n",
       "       [3.49163374e-05, 9.00172571e-06, 4.71517473e-06],\n",
       "       [3.53106037e-05, 9.13064807e-06, 4.71517473e-06],\n",
       "       [3.46186516e-05, 9.17515368e-06, 4.71517473e-06]])"
      ]
     },
     "execution_count": 3,
     "metadata": {},
     "output_type": "execute_result"
    }
   ],
   "source": [
    "optimized_positions"
   ]
  },
  {
   "cell_type": "code",
   "execution_count": null,
   "metadata": {},
   "outputs": [],
   "source": [
    "import matplotlib.pyplot as plt"
   ]
  },
  {
   "cell_type": "code",
   "execution_count": null,
   "metadata": {},
   "outputs": [],
   "source": [
    "fig ax = plt.subplots()\n",
    "for i in range(3):\n",
    "    ax.plot(optimized_positions[:, i])\n",
    "\n",
    "plt.savefig(\"Z:\\\\Data\\\\20211116_FR0612-3G18_RT\\\\autofocus.png\")"
   ]
  }
 ],
 "metadata": {
  "kernelspec": {
   "display_name": "Qudi",
   "language": "python",
   "name": "qudi"
  },
  "language_info": {
   "codemirror_mode": {
    "name": "ipython",
    "version": "3.6.5"
   },
   "file_extension": ".py",
   "mimetype": "text/x-python",
   "name": "python",
   "nbconvert_exporter": "python",
   "pygments_lexer": "ipython3",
   "version": "3.6.5"
  }
 },
 "nbformat": 4,
 "nbformat_minor": 2
}

{
 "cells": [
  {
   "cell_type": "code",
   "execution_count": 1,
   "metadata": {},
   "outputs": [],
   "source": [
    "import time\n",
    "import datetime"
   ]
  },
  {
   "cell_type": "code",
   "execution_count": 78,
   "metadata": {},
   "outputs": [],
   "source": [
    "pressure = pressuremonitorlogic.data[\"main\"][-1]\n",
    "powermeterlogic.get_power(state=True)\n",
    "laser_power = int(powermeterlogic.calibrated_power_uhv * 1e6)"
   ]
  },
  {
   "cell_type": "code",
   "execution_count": 79,
   "metadata": {},
   "outputs": [
    {
     "name": "stdout",
     "output_type": "stream",
     "text": [
      "pressure_variation_2point33e-05mbar_0uW\n"
     ]
    }
   ],
   "source": [
    "pressure = str(pressure).replace(\".\", \"point\")\n",
    "filetag = f\"pressure_variation_{pressure}mbar_{laser_power}uW\"\n",
    "print(filetag)"
   ]
  },
  {
   "cell_type": "code",
   "execution_count": 76,
   "metadata": {},
   "outputs": [],
   "source": [
    "autocorr_acquire_time = 180 # seconds\n",
    "timetrace_acquire_time = 30\n",
    "spectrometer_acquire_time = 30 # seconds"
   ]
  },
  {
   "cell_type": "code",
   "execution_count": null,
   "metadata": {},
   "outputs": [
    {
     "name": "stdout",
     "output_type": "stream",
     "text": [
      "2023-03-09 01:57:23.880508 Starting confocal...\n"
     ]
    }
   ],
   "source": [
    "# Confocal\n",
    "print(f\"{datetime.datetime.now()} Starting confocal...\")\n",
    "confocalgui._mw.save_tag_LineEdit.setText(filetag)\n",
    "time.sleep(1)\n",
    "confocalgui.xy_scan_clicked()\n",
    "time.sleep(1)\n",
    "while scannerlogic.module_state() == \"locked\":\n",
    "    time.sleep(10)\n",
    "\n",
    "time.sleep(1)\n",
    "\n",
    "print(f\"{datetime.datetime.now()} Finished confocal, starting refocus...\")\n",
    "\n",
    "time.sleep(1)\n",
    "\n",
    "confocalgui.refocus_clicked()\n",
    "time.sleep(1)\n",
    "while optimizerlogic.module_state() == \"locked\":\n",
    "    time.sleep(10)\n",
    "    \n",
    "print(f\"{datetime.datetime.now()} Finished refocus. saving confocal...\")\n",
    "\n",
    "scannerlogic.save_xy_data(block=True, filetag=filetag)\n",
    "\n",
    "time.sleep(2)\n",
    "\n",
    "# Autocorrelation\n",
    "print(f\"{datetime.datetime.now()} Starting autocorrelation...\")\n",
    "autocorrelationgui._mw.save_tag_LineEdit.setText(filetag)\n",
    "time.sleep(1)\n",
    "autocorrelationgui.start_clicked()\n",
    "time.sleep(autocorr_acquire_time)\n",
    "autocorrelationgui.stop_clicked()\n",
    "\n",
    "time.sleep(3)\n",
    "print(f\"{datetime.datetime.now()} Saving autocorrelation...\")\n",
    "\n",
    "time.sleep(1)\n",
    "\n",
    "autocorrelationgui.save_data()\n",
    "\n",
    "time.sleep(2)\n",
    "\n",
    "# Timetrace\n",
    "print(f\"{datetime.datetime.now()} Starting Timetrace...\")\n",
    "countergui._mw.save_tag_LineEdit.setText(filetag)\n",
    "time.sleep(1)\n",
    "countergui.save_clicked()\n",
    "time.sleep(timetrace_acquire_time)\n",
    "\n",
    "time.sleep(1)\n",
    "\n",
    "\n",
    "print(f\"{datetime.datetime.now()} Saving Timetrace...\")\n",
    "time.sleep(1)\n",
    "\n",
    "countergui.save_clicked()\n",
    "\n",
    "time.sleep(2)\n",
    "\n",
    "# Spectrometer\n",
    "print(f\"{datetime.datetime.now()} Starting Spectrometer...\")\n",
    "qepro_spectrometer.setExposure(spectrometer_acquire_time * 1e6)\n",
    "time.sleep(2)\n",
    "spectrometer.record_single_spectrum()\n",
    "time.sleep(1)\n",
    "spectrometer.record_single_spectrum()\n",
    "time.sleep(1)\n",
    "print(f\"{datetime.datetime.now()} Saving Spectrometer...\")\n",
    "\n",
    "time.sleep(1)\n",
    "\n",
    "spectrometerlogic.save_spectrum_data(name_tag=filetag)\n",
    "time.sleep(1)\n",
    "\n",
    "print(f\"{datetime.datetime.now()} Done!\")"
   ]
  },
  {
   "cell_type": "code",
   "execution_count": null,
   "metadata": {},
   "outputs": [],
   "source": []
  }
 ],
 "metadata": {
  "kernelspec": {
   "display_name": "Qudi",
   "language": "python",
   "name": "qudi"
  },
  "language_info": {
   "codemirror_mode": {
    "name": "ipython",
    "version": "3.6.5"
   },
   "file_extension": ".py",
   "mimetype": "text/x-python",
   "name": "python",
   "nbconvert_exporter": "python",
   "pygments_lexer": "ipython3",
   "version": "3.6.5"
  }
 },
 "nbformat": 4,
 "nbformat_minor": 2
}

{
 "cells": [
  {
   "cell_type": "code",
   "execution_count": null,
   "metadata": {},
   "outputs": [],
   "source": [
    "import numpy as np\n",
    "import csv\n",
    "import time\n",
    "import os"
   ]
  },
  {
   "cell_type": "code",
   "execution_count": null,
   "metadata": {},
   "outputs": [],
   "source": [
    "filename = \"scanfile.txt\"\n",
    "filepath = os.path.join(\"C:\\\\\", \"qudi-hira\", \"hardware\", \"nanonis\", filename)"
   ]
  },
  {
   "cell_type": "code",
   "execution_count": null,
   "metadata": {},
   "outputs": [],
   "source": [
    "def get_csv_rows():\n",
    "    rows = []\n",
    "    with open(filepath) as f:\n",
    "        csv_reader = csv.reader(f, delimiter=',')\n",
    "        for idx, row in enumerate(csv_reader):\n",
    "            rows.append(list(map(int, row)))\n",
    "    return rows\n",
    "\n",
    "def get_total_rows_and_cols():\n",
    "    \"\"\" First row of the csv file \"\"\"\n",
    "    return get_csv_rows()[0]\n",
    "\n",
    "def nanonis_running():\n",
    "    rows = get_csv_rows()\n",
    "    if len(rows) == 1:\n",
    "        return True\n",
    "    else:\n",
    "        return False\n",
    "\n",
    "def get_current_row_and_col():\n",
    "    \"\"\" Last row of the csv file \"\"\"\n",
    "    rows = get_csv_rows()\n",
    "    if len(rows) == 1:\n",
    "        raise ValueError(\"Insuffienct data\")\n",
    "    else:\n",
    "        return rows[-1]"
   ]
  },
  {
   "cell_type": "code",
   "execution_count": 11,
   "metadata": {},
   "outputs": [],
   "source": [
    "while True:\n",
    "    if nanonis_running():\n",
    "        total_rows, total_cols = get_total_rows_and_cols()\n",
    "        scan_odmr_data = np.zeros((total_rows, total_cols, 5))\n",
    "\n",
    "        row, col = 0, 0\n",
    "        while True:\n",
    "            try:\n",
    "                current_row, current_col = get_current_row_and_col()\n",
    "                #print(current_row, current_col)\n",
    "\n",
    "                if current_row != row or current_col != col:\n",
    "                    row = current_row\n",
    "                    col = current_col\n",
    "                if current_row == -1 and current_col == -1 :\n",
    "                    break\n",
    "\n",
    "                scan_odmr_data[row, col] += np.ones(5)\n",
    "\n",
    "                # print(\"row =\", row, \"col =\", col, \"data =\", scan_odmr_data[row, col])\n",
    "\n",
    "                time.sleep(0.01)\n",
    "            except ValueError as exc:\n",
    "                time.sleep(0.05)\n",
    "                pass\n",
    "        break\n",
    "    else:\n",
    "        time.sleep(0.005)"
   ]
  },
  {
   "cell_type": "code",
   "execution_count": 12,
   "metadata": {},
   "outputs": [
    {
     "data": {
      "text/plain": [
       "array([[[201., 201., 201., 201., 201.],\n",
       "        [206., 206., 206., 206., 206.]],\n",
       "\n",
       "       [[206., 206., 206., 206., 206.],\n",
       "        [206., 206., 206., 206., 206.]],\n",
       "\n",
       "       [[206., 206., 206., 206., 206.],\n",
       "        [206., 206., 206., 206., 206.]],\n",
       "\n",
       "       [[206., 206., 206., 206., 206.],\n",
       "        [206., 206., 206., 206., 206.]],\n",
       "\n",
       "       [[230., 230., 230., 230., 230.],\n",
       "        [199., 199., 199., 199., 199.]]])"
      ]
     },
     "execution_count": 12,
     "metadata": {},
     "output_type": "execute_result"
    }
   ],
   "source": [
    "scan_odmr_data"
   ]
  },
  {
   "cell_type": "code",
   "execution_count": null,
   "metadata": {},
   "outputs": [],
   "source": []
  }
 ],
 "metadata": {
  "kernelspec": {
   "display_name": "qudi",
   "language": "python",
   "name": "qudi"
  },
  "language_info": {
   "codemirror_mode": {
    "name": "ipython",
    "version": 3
   },
   "file_extension": ".py",
   "mimetype": "text/x-python",
   "name": "python",
   "nbconvert_exporter": "python",
   "pygments_lexer": "ipython3",
   "version": "3.6.5"
  }
 },
 "nbformat": 4,
 "nbformat_minor": 2
}

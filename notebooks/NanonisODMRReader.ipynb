{
 "cells": [
  {
   "cell_type": "code",
   "execution_count": 1,
   "metadata": {},
   "outputs": [],
   "source": [
    "import numpy as np\n",
    "import csv\n",
    "import time\n",
    "import os"
   ]
  },
  {
   "cell_type": "code",
   "execution_count": 2,
   "metadata": {},
   "outputs": [],
   "source": [
    "filename = \"scanfile.txt\"\n",
    "filepath = os.path.join(\"C:\\\\\", \"qudi-hira\", \"hardware\", \"nanonis\", filename)"
   ]
  },
  {
   "cell_type": "code",
   "execution_count": 4,
   "metadata": {},
   "outputs": [],
   "source": [
    "def get_csv_rows():\n",
    "    rows = []\n",
    "    with open(filepath) as f:\n",
    "        csv_reader = csv.reader(f, delimiter=',')\n",
    "        for idx, row in enumerate(csv_reader):\n",
    "            rows.append(list(map(int, row)))\n",
    "    return rows\n",
    "\n",
    "def get_total_rows_and_cols():\n",
    "    \"\"\" First row of the csv file \"\"\"\n",
    "    return get_csv_rows()[0]\n",
    "\n",
    "def nanonis_running():\n",
    "    rows = get_csv_rows()\n",
    "    if len(rows) == 1:\n",
    "        return True\n",
    "    else:\n",
    "        return False\n",
    "\n",
    "def get_current_row_and_col():\n",
    "    \"\"\" Last row of the csv file \"\"\"\n",
    "    rows = get_csv_rows()\n",
    "    if len(rows) == 1:\n",
    "        raise ValueError(\"Insuffienct data\")\n",
    "    else:\n",
    "        return rows[-1]"
   ]
  },
  {
   "cell_type": "code",
   "execution_count": 40,
   "metadata": {},
   "outputs": [],
   "source": [
    "# Start first\n",
    "while True:\n",
    "    if nanonis_running():\n",
    "        total_rows, total_cols = get_total_rows_and_cols()\n",
    "        scan_odmr_data = np.zeros((total_rows, total_cols, 5))\n",
    "\n",
    "        row, col = 0, 0\n",
    "        while True:\n",
    "            try:\n",
    "                current_row, current_col = get_current_row_and_col()\n",
    "                #print(current_row, current_col)\n",
    "\n",
    "                if current_row != row or current_col != col:\n",
    "                    row = current_row\n",
    "                    col = current_col\n",
    "                if current_row == -1 and current_col == -1 :\n",
    "                    break\n",
    "\n",
    "                scan_odmr_data[row, col] += np.ones(5)\n",
    "\n",
    "                # print(\"row =\", row, \"col =\", col, \"data =\", scan_odmr_data[row, col])\n",
    "\n",
    "                time.sleep(0.01)\n",
    "            except ValueError as exc:\n",
    "                time.sleep(0.05)\n",
    "                pass\n",
    "        break\n",
    "    else:\n",
    "        time.sleep(0.005)"
   ]
  },
  {
   "cell_type": "markdown",
   "metadata": {},
   "source": [
    "# Data Processing"
   ]
  },
  {
   "cell_type": "code",
   "execution_count": 42,
   "metadata": {},
   "outputs": [
    {
     "data": {
      "text/plain": [
       "(2, 3, 5)"
      ]
     },
     "execution_count": 42,
     "metadata": {},
     "output_type": "execute_result"
    }
   ],
   "source": [
    "np.shape(scan_odmr_data)"
   ]
  },
  {
   "cell_type": "code",
   "execution_count": 45,
   "metadata": {},
   "outputs": [
    {
     "data": {
      "text/plain": [
       "array([[[96., 96., 96., 96., 96.],\n",
       "        [98., 98., 98., 98., 98.],\n",
       "        [97., 97., 97., 97., 97.]],\n",
       "\n",
       "       [[97., 97., 97., 97., 97.],\n",
       "        [99., 99., 99., 99., 99.],\n",
       "        [97., 97., 97., 97., 97.]]])"
      ]
     },
     "execution_count": 45,
     "metadata": {},
     "output_type": "execute_result"
    }
   ],
   "source": [
    "scan_odmr_data"
   ]
  },
  {
   "cell_type": "code",
   "execution_count": 54,
   "metadata": {},
   "outputs": [
    {
     "name": "stdout",
     "output_type": "stream",
     "text": [
      "[96. 96. 96. 96. 96.]\n",
      "[98. 98. 98. 98. 98.]\n",
      "[97. 97. 97. 97. 97.]\n",
      "[97. 97. 97. 97. 97.]\n",
      "[99. 99. 99. 99. 99.]\n",
      "[97. 97. 97. 97. 97.]\n"
     ]
    }
   ],
   "source": [
    "x_dim, y_dim, sweep_size = np.shape(scan_odmr_data)\n",
    "\n",
    "for item in scan_odmr_data.reshape(x_dim * y_dim, sweep_size):\n",
    "    print(item)\n",
    "    # 1. Fit Lorentzian to each array\n",
    "    # 2. Extract splitting\n",
    "    # 3. Plot splitting in 2D map"
   ]
  },
  {
   "cell_type": "code",
   "execution_count": 62,
   "metadata": {},
   "outputs": [
    {
     "data": {
      "text/plain": [
       "(6, 5)"
      ]
     },
     "execution_count": 62,
     "metadata": {},
     "output_type": "execute_result"
    }
   ],
   "source": [
    "np.shape(scan_odmr_data.reshape(x_dim * y_dim, sweep_size))"
   ]
  },
  {
   "cell_type": "code",
   "execution_count": 56,
   "metadata": {},
   "outputs": [],
   "source": [
    "np.savetxt(\"arr.csv\", scan_odmr_data.reshape(x_dim * y_dim, sweep_size), delimiter=',')"
   ]
  },
  {
   "cell_type": "code",
   "execution_count": 57,
   "metadata": {},
   "outputs": [],
   "source": [
    "np.save(\"arr.npy\", scan_odmr_data)"
   ]
  },
  {
   "cell_type": "code",
   "execution_count": 61,
   "metadata": {},
   "outputs": [
    {
     "data": {
      "text/plain": [
       "(2, 3, 5)"
      ]
     },
     "execution_count": 61,
     "metadata": {},
     "output_type": "execute_result"
    }
   ],
   "source": [
    "np.shape(np.load(\"arr.npy\"))"
   ]
  },
  {
   "cell_type": "code",
   "execution_count": 64,
   "metadata": {},
   "outputs": [],
   "source": [
    "from itertools import product\n"
   ]
  },
  {
   "cell_type": "code",
   "execution_count": 74,
   "metadata": {},
   "outputs": [
    {
     "name": "stdout",
     "output_type": "stream",
     "text": [
      "0 0\n",
      "[[[1. 1. 1. 1. 1.]\n",
      "  [0. 0. 0. 0. 0.]]\n",
      "\n",
      " [[0. 0. 0. 0. 0.]\n",
      "  [0. 0. 0. 0. 0.]]]\n",
      "0 1\n",
      "[[[1. 1. 1. 1. 1.]\n",
      "  [1. 1. 1. 1. 1.]]\n",
      "\n",
      " [[0. 0. 0. 0. 0.]\n",
      "  [0. 0. 0. 0. 0.]]]\n",
      "1 0\n",
      "[[[1. 1. 1. 1. 1.]\n",
      "  [1. 1. 1. 1. 1.]]\n",
      "\n",
      " [[1. 1. 1. 1. 1.]\n",
      "  [0. 0. 0. 0. 0.]]]\n",
      "1 1\n",
      "[[[1. 1. 1. 1. 1.]\n",
      "  [1. 1. 1. 1. 1.]]\n",
      "\n",
      " [[1. 1. 1. 1. 1.]\n",
      "  [1. 1. 1. 1. 1.]]]\n"
     ]
    }
   ],
   "source": [
    "x_size, y_size = 2, 2\n",
    "\n",
    "scan_odmr_data = np.zeros((x_size, y_size, 5))\n",
    "\n",
    "for x, y in product(np.arange(x_size), np.arange(y_size)):\n",
    "    print(x, y)\n",
    "    scan_odmr_data[x, y] += np.ones(5)\n",
    "    np.save(\"arr.npy\", scan_odmr_data)\n",
    "    arr = np.load(\"arr.npy\")\n",
    "    print(arr)"
   ]
  },
  {
   "cell_type": "code",
   "execution_count": 31,
   "metadata": {},
   "outputs": [
    {
     "name": "stdout",
     "output_type": "stream",
     "text": [
      "The values are 1 2\n"
     ]
    }
   ],
   "source": [
    "def get_dict():\n",
    "    return {\"row\": 1, \"col\": 2}\n",
    "\n",
    "print(\"The values are {0} {1}\".format(*get_dict().values()))"
   ]
  },
  {
   "cell_type": "code",
   "execution_count": 10,
   "metadata": {},
   "outputs": [],
   "source": [
    "import numpy as np"
   ]
  },
  {
   "cell_type": "code",
   "execution_count": 13,
   "metadata": {},
   "outputs": [
    {
     "name": "stdout",
     "output_type": "stream",
     "text": [
      "'freq', 'counts'\n"
     ]
    }
   ],
   "source": [
    "data = {\"freq\": np.linspace(2.8e9, 3e9, 100), \"counts\": np.zeros((5, 2, 3))}\n",
    "header = \"\"\n",
    "header += str(list(data.keys()))[1:-1]\n",
    "print(header)\n",
    "\n",
    "np.savez_compressed(\"test\", **data)"
   ]
  },
  {
   "cell_type": "code",
   "execution_count": 17,
   "metadata": {},
   "outputs": [],
   "source": [
    "a = np.load(\"test.npz\")"
   ]
  },
  {
   "cell_type": "code",
   "execution_count": 26,
   "metadata": {},
   "outputs": [
    {
     "data": {
      "text/plain": [
       "array([0., 0., 0.])"
      ]
     },
     "execution_count": 26,
     "metadata": {},
     "output_type": "execute_result"
    }
   ],
   "source": [
    "a[\"counts\"][0][0]"
   ]
  }
 ],
 "metadata": {
  "kernelspec": {
   "display_name": "qudi",
   "language": "python",
   "name": "qudi"
  },
  "language_info": {
   "codemirror_mode": {
    "name": "ipython",
    "version": 3
   },
   "file_extension": ".py",
   "mimetype": "text/x-python",
   "name": "python",
   "nbconvert_exporter": "python",
   "pygments_lexer": "ipython3",
   "version": "3.6.5"
  }
 },
 "nbformat": 4,
 "nbformat_minor": 2
}

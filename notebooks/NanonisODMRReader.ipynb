{
 "cells": [
  {
   "cell_type": "code",
   "execution_count": null,
   "metadata": {},
   "outputs": [],
   "source": [
    "import numpy as np\n",
    "import csv\n",
    "import time"
   ]
  },
  {
   "cell_type": "code",
   "execution_count": null,
   "metadata": {},
   "outputs": [],
   "source": [
    "filename = \"scanfile.txt\""
   ]
  },
  {
   "cell_type": "code",
   "execution_count": null,
   "metadata": {},
   "outputs": [],
   "source": [
    "def get_csv_rows():\n",
    "    rows = []\n",
    "    with open(filename) as f:\n",
    "        csv_reader = csv.reader(f, delimiter=',')\n",
    "        for idx, row in enumerate(csv_reader):\n",
    "            rows.append(list(map(int, row)))\n",
    "    return rows\n",
    "\n",
    "def get_total_rows_and_cols():\n",
    "    \"\"\" First row of the csv file \"\"\"\n",
    "    return get_csv_rows()[0]\n",
    "\n",
    "def get_current_row_and_col():\n",
    "    \"\"\" Last row of the csv file \"\"\"\n",
    "    rows = get_csv_rows()\n",
    "    if len(rows) == 1:\n",
    "        raise ValueError(\"Insuffienct data\")\n",
    "    else:\n",
    "        return rows[-1]"
   ]
  },
  {
   "cell_type": "code",
   "execution_count": null,
   "metadata": {},
   "outputs": [],
   "source": [
    "total_rows, total_cols = get_total_rows_and_cols()\n",
    "\n",
    "scan_odmr_data = np.zeros((total_rows, total_cols, 5))\n",
    "\n",
    "row, col = 0, 0\n",
    "while True:\n",
    "    try:\n",
    "        current_row, current_col = get_current_row_and_col()\n",
    "\n",
    "        if current_row != row or current_col != col:\n",
    "            row = current_row\n",
    "            col = current_col\n",
    "        if current_row == -1 and current_col == -1 :\n",
    "            break\n",
    "            \n",
    "        scan_odmr_data[row, col] += np.ones(5)\n",
    "        \n",
    "        print(\"row =\", row, \"col =\", col, \"data =\", scan_odmr_data[row, col])\n",
    "\n",
    "        time.sleep(1)\n",
    "    except ValueError as exc:\n",
    "        print(exc)\n",
    "        time.sleep(1)\n",
    "        pass"
   ]
  },
  {
   "cell_type": "code",
   "execution_count": null,
   "metadata": {},
   "outputs": [],
   "source": [
    "scan_odmr_data[0][2]"
   ]
  }
 ],
 "metadata": {
  "kernelspec": {
   "display_name": "qudi",
   "language": "python",
   "name": "qudi"
  },
  "language_info": {
   "codemirror_mode": {
    "name": "ipython",
    "version": 3
   },
   "file_extension": ".py",
   "mimetype": "text/x-python",
   "name": "python",
   "nbconvert_exporter": "python",
   "pygments_lexer": "ipython3",
   "version": "3.6.5"
  }
 },
 "nbformat": 4,
 "nbformat_minor": 2
}

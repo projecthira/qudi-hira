{
 "cells": [
  {
   "cell_type": "code",
   "execution_count": 1,
   "metadata": {},
   "outputs": [],
   "source": [
    "import time"
   ]
  },
  {
   "cell_type": "markdown",
   "metadata": {},
   "source": [
    "# logic\n",
    "\n",
    "- wait till nanonis starts\n",
    "- read scanfile to get the current position of the nanonis\n",
    "- start pulsed measurement\n",
    "- wait until scanfile position changes\n",
    "- stop measurement and save data"
   ]
  },
  {
   "cell_type": "code",
   "execution_count": null,
   "metadata": {},
   "outputs": [],
   "source": [
    "refocus_time = 45 # seconds\n",
    "pulsed_name = \"rabi\""
   ]
  },
  {
   "cell_type": "code",
   "execution_count": null,
   "metadata": {},
   "outputs": [],
   "source": [
    "pulsedmeasurement._pm.samplo_buttons[pulsed_name].click()\n",
    "print(\"Loading {} to AWG\".format(pulsed_name))"
   ]
  },
  {
   "cell_type": "code",
   "execution_count": 6,
   "metadata": {},
   "outputs": [],
   "source": [
    "while True:\n",
    "    if nanonis_raster_scanner.get_status()[\"nanonis_running\"]:\n",
    "        print(\"Nanonis is now running...\")\n",
    "        \n",
    "        row, col = -1, -1\n",
    "        \n",
    "        while True:\n",
    "            try:\n",
    "                current_pos = nanonis_raster_scanner.get_pos([\"current\"])\n",
    "                current_row, current_col = current_pos[\"row\"], current_pos[\"col\"]\n",
    "\n",
    "                # Check if Nanonis position has changed\n",
    "                if current_row != row or current_col != col:\n",
    "                    # Fix for the case at (0, 0)\n",
    "                    if current_row + current_col != 0:\n",
    "                        # Stop pulsed measurement\n",
    "                        pulsedmeasurement.measurement_run_stop_clicked(False)\n",
    "                        print(f\"[{row}, {col}] Stopping measurement '{pulsed_name}'\")\n",
    "                        \n",
    "                        # Wait for stop\n",
    "                        time.sleep(2)\n",
    "                        \n",
    "                        # Save pulsed measurement                                                \n",
    "                        pulsedmeasurement.save_clicked()\n",
    "                        print(f\"[{row}, {col}] Saving data...\")\n",
    "                        time.sleep(2)\n",
    "                    # End while loop after Nanonis finishes\n",
    "                    if current_row == -1 and current_col == -1:\n",
    "                        break\n",
    "                        \n",
    "                    # Set loop variables equal to position from Nanonis\n",
    "                    row = current_row\n",
    "                    col = current_col\n",
    "                    \n",
    "                    # Refocus tip with optimizer\n",
    "                    confocalgui_ambient.refocus_clicked()\n",
    "                    print(f\"[{row}, {col}] Refocusing...\")\n",
    "                    time.sleep(refocus_time)\n",
    "\n",
    "                    # Start pulsed measurement\n",
    "                    pulsedmeasurement.measurement_run_stop_clicked(True)\n",
    "                    pulsedmeasurement._mw.save_tag_LineEdit.setText(\n",
    "                        \"raster_{pulsed_name}_row{}_col{}\".format(pulsed_name, row, col)\n",
    "                    )\n",
    "                    print(f\"[{row}, {col}] Starting measurement '{pulsed_name}'...\")\n",
    "            except ValueError as exc:\n",
    "                time.sleep(0.05)\n",
    "                pass\n",
    "        print(\"Nanonis has now stopped\")\n",
    "        break\n",
    "    else:\n",
    "        time.sleep(0.05)"
   ]
  },
  {
   "cell_type": "code",
   "execution_count": null,
   "metadata": {},
   "outputs": [],
   "source": [
    "class NanonisRasterPulsed(GenericLogic):\n",
    "    def __init__(self):\n",
    "        self.pulsedmeasurement = pulsedmeasurement\n",
    "        self.refocus_delay = 0\n",
    "        self.refocus_on_each_point = False\n",
    "    \n",
    "    def start_measure(self):\n",
    "        while True:\n",
    "            if nanonis_raster_scanner.get_status()[\"nanonis_running\"]:\n",
    "                print(\"Nanonis is now running...\")\n",
    "\n",
    "                row, col = -1, -1\n",
    "\n",
    "                while True:\n",
    "                    try:\n",
    "                        current_pos = nanonis_raster_scanner.get_pos([\"current\"])\n",
    "                        current_row, current_col = current_pos[\"row\"], current_pos[\"col\"]\n",
    "\n",
    "                        # Check if Nanonis position has changed\n",
    "                        if current_row != row or current_col != col:\n",
    "                            # Fix for the case at (0, 0)\n",
    "                            if current_row + current_col != 0:\n",
    "                                # Stop pulsed measurement\n",
    "                                pulsedmeasurement.measurement_run_stop_clicked(False)\n",
    "                                print(f\"[{row}, {col}] Stopping measurement '{pulsed_name}'\")\n",
    "\n",
    "                                # Wait for stop\n",
    "                                time.sleep(2)\n",
    "\n",
    "                                # Save pulsed measurement                                                \n",
    "                                pulsedmeasurement.save_clicked()\n",
    "                                print(f\"[{row}, {col}] Saving data...\")\n",
    "                                time.sleep(2)\n",
    "                            # End while loop after Nanonis finishes\n",
    "                            if current_row == -1 and current_col == -1:\n",
    "                                break\n",
    "\n",
    "                            # Set loop variables equal to position from Nanonis\n",
    "                            row = current_row\n",
    "                            col = current_col\n",
    "\n",
    "                            # Refocus tip with optimizer\n",
    "                            if self.refocus_on_each_point:\n",
    "                                confocalgui_ambient.refocus_clicked()\n",
    "                                print(f\"[{row}, {col}] Refocusing...\")\n",
    "                                time.sleep(refocus_delay)\n",
    "\n",
    "                            # Start pulsed measurement\n",
    "                            pulsedmeasurement.measurement_run_stop_clicked(True)\n",
    "                            pulsedmeasurement._mw.save_tag_LineEdit.setText(\n",
    "                                \"raster_{pulsed_name}_row{}_col{}\".format(pulsed_name, row, col)\n",
    "                            )\n",
    "                            print(f\"[{row}, {col}] Starting measurement '{pulsed_name}'...\")\n",
    "                    except ValueError as exc:\n",
    "                        time.sleep(0.05)\n",
    "                        pass\n",
    "                print(\"Nanonis has now stopped\")\n",
    "                break\n",
    "            else:\n",
    "                time.sleep(0.05)\n",
    "\n",
    "    def stop_measure(self):\n",
    "        pass\n",
    "    \n",
    "    def set_up_measure(self, pulsed_name, refocus_on_each_point, refocus_delay=45):\n",
    "        self.pulsedmeasurement._pm.samplo_buttons[pulsed_name].click()\n",
    "        print(\"Loading {} to AWG\".format(pulsed_name))\n",
    "       \n",
    "\n",
    "        self.refocus_on_each_point = refocus_on_each_point\n",
    "        if self.refocus_on_each_point:\n",
    "            self.refocus_delay = refocus_delay"
   ]
  },
  {
   "cell_type": "code",
   "execution_count": null,
   "metadata": {},
   "outputs": [],
   "source": [
    "raster = NanonisRasterPulsed()\n",
    "raster.set_up_measure(pulsed_name=\"rabi\", refocus_on_each_point=True, refocus_delay=45)"
   ]
  },
  {
   "cell_type": "code",
   "execution_count": null,
   "metadata": {},
   "outputs": [],
   "source": [
    "raster.start_measure()"
   ]
  }
 ],
 "metadata": {
  "kernelspec": {
   "display_name": "Qudi",
   "language": "python",
   "name": "qudi"
  },
  "language_info": {
   "codemirror_mode": {
    "name": "ipython",
    "version": "3.6.5"
   },
   "file_extension": ".py",
   "mimetype": "text/x-python",
   "name": "python",
   "nbconvert_exporter": "python",
   "pygments_lexer": "ipython3",
   "version": "3.6.5"
  }
 },
 "nbformat": 4,
 "nbformat_minor": 2
}

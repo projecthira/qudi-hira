{
 "cells": [
  {
   "cell_type": "code",
   "execution_count": 1,
   "metadata": {},
   "outputs": [],
   "source": [
    "import numpy as np"
   ]
  },
  {
   "cell_type": "markdown",
   "metadata": {},
   "source": [
    "# Gold wire characteristics"
   ]
  },
  {
   "cell_type": "code",
   "execution_count": 25,
   "metadata": {},
   "outputs": [],
   "source": [
    "L = 2e-2 # [m]\n",
    "α = 14.2e-6 # [1 / K]\n",
    "d = 30e-6 # [m]\n",
    "ρ = 19.3e-3 / (1e-2)**3 # kg / m^3\n",
    "c = 129 # [J/(kg . K)]\n",
    "m = np.pi * (d/2)**2 * L * ρ # [kg]"
   ]
  },
  {
   "cell_type": "code",
   "execution_count": 26,
   "metadata": {},
   "outputs": [],
   "source": [
    "def dbm_to_watt(P_dbm):\n",
    "    return 10 ** ((P_dbm - 30) / 10)"
   ]
  },
  {
   "cell_type": "markdown",
   "metadata": {},
   "source": [
    "# Temperature change of a gold wire if 1% is lost across it"
   ]
  },
  {
   "cell_type": "code",
   "execution_count": 28,
   "metadata": {},
   "outputs": [
    {
     "name": "stdout",
     "output_type": "stream",
     "text": [
      "dP = 1.035 mW\n",
      "t = 5.000 s\n",
      "m = 2.73e-07 kg\n",
      "Q = 0.005 J\n",
      "dT = 147.048 K\n",
      "dL = 41.76177398158964 um\n"
     ]
    }
   ],
   "source": [
    "Pinput = 5\n",
    "Poutput = -10\n",
    "\n",
    "deltaP = np.abs(Poutput - Pinput)\n",
    "dP = dbm_to_watt(0.01 * deltaP) # [W]\n",
    "t = 5 # [s]\n",
    "Q = dP * t # [J]\n",
    "dT = Q / (m * 129) # [K]\n",
    "dL = α * L * dT\n",
    "\n",
    "print(f\"dP = {dP * 1e3:.3f} mW\\nt = {t:.3f} s\\nm = {m:.2e} kg\\nQ = {Q:.3f} J\\ndT = {dT:.3f} K\\ndL = {dL * 1e6} um\")"
   ]
  }
 ],
 "metadata": {
  "kernelspec": {
   "display_name": "qudi",
   "language": "python",
   "name": "qudi"
  },
  "language_info": {
   "codemirror_mode": {
    "name": "ipython",
    "version": 3
   },
   "file_extension": ".py",
   "mimetype": "text/x-python",
   "name": "python",
   "nbconvert_exporter": "python",
   "pygments_lexer": "ipython3",
   "version": "3.6.5"
  }
 },
 "nbformat": 4,
 "nbformat_minor": 2
}

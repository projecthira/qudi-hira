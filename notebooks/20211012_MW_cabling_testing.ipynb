{
 "cells": [
  {
   "cell_type": "code",
   "execution_count": null,
   "metadata": {},
   "outputs": [],
   "source": [
    "import numpy as np\n",
    "import os\n",
    "import pandas as pd\n",
    "\n",
    "import matplotlib.pyplot as plt"
   ]
  },
  {
   "cell_type": "code",
   "execution_count": null,
   "metadata": {},
   "outputs": [],
   "source": [
    "folder = os.path.join(\"Z:\\\\\", \"Data\", \"20211012_MW_cabling_testing\")"
   ]
  },
  {
   "cell_type": "code",
   "execution_count": null,
   "metadata": {},
   "outputs": [],
   "source": [
    "os.listdir(folder)"
   ]
  },
  {
   "cell_type": "code",
   "execution_count": null,
   "metadata": {},
   "outputs": [],
   "source": [
    "%matplotlib notebook\n",
    "\n",
    "folder = os.path.join(\"Z:\\\\\", \"Data\", \"20211012_MW_cabling_testing\", \"10ns_pulse\")\n",
    "\n",
    "fig, ax = plt.subplots()\n",
    "\n",
    "for filename in os.listdir(folder):\n",
    "    df = pd.read_csv(os.path.join(folder, filename), skiprows=4)\n",
    "    name, _ = os.path.splitext(filename)\n",
    "    name = name[3:-5].replace(\"_\", \" \")\n",
    "    print(name[3:])\n",
    "    ax.plot(df[\"Time\"] * 1e9, df[\"Ampl\"], linewidth=0.5, label=f\"{name}\")\n",
    "    \n",
    "ax.set_xlim([-10, 150])\n",
    "fig.legend()"
   ]
  },
  {
   "cell_type": "code",
   "execution_count": null,
   "metadata": {},
   "outputs": [],
   "source": [
    "base = 39 / 2\n",
    "delays = np.array([40.5, 41.5, 57.9]) / 2\n",
    "\n",
    "deltaT = delays - base\n",
    "print(deltaT * 1e-9 * 2 * 1e8)"
   ]
  },
  {
   "cell_type": "markdown",
   "metadata": {},
   "source": [
    "$RF = \\frac{R_{sc} - 50} {(R_{sc} + 50)}$"
   ]
  },
  {
   "cell_type": "code",
   "execution_count": null,
   "metadata": {},
   "outputs": [],
   "source": [
    "def resistance(rf):\n",
    "    return -50 * (1 + rf) / (rf - 1)\n",
    "\n",
    "rf = np.linspace(-0.9, 0.9, 100)\n",
    "fig, ax = plt.subplots()\n",
    "ax.plot(rf, resistance(rf))"
   ]
  },
  {
   "cell_type": "code",
   "execution_count": null,
   "metadata": {},
   "outputs": [],
   "source": [
    "print(resistance(-0.6))"
   ]
  }
 ],
 "metadata": {
  "kernelspec": {
   "display_name": "qudi",
   "language": "python",
   "name": "qudi"
  },
  "language_info": {
   "codemirror_mode": {
    "name": "ipython",
    "version": 3
   },
   "file_extension": ".py",
   "mimetype": "text/x-python",
   "name": "python",
   "nbconvert_exporter": "python",
   "pygments_lexer": "ipython3",
   "version": "3.6.5"
  }
 },
 "nbformat": 4,
 "nbformat_minor": 2
}

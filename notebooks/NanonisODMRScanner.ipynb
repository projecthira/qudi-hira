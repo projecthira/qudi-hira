{
 "cells": [
  {
   "cell_type": "code",
   "execution_count": 1,
   "metadata": {},
   "outputs": [],
   "source": [
    "from itertools import product\n",
    "import numpy as np\n",
    "import csv\n",
    "import time\n",
    "import os"
   ]
  },
  {
   "cell_type": "code",
   "execution_count": 2,
   "metadata": {},
   "outputs": [],
   "source": [
    "x_size, y_size = 2, 3\n",
    "filename = \"scanfile.txt\"\n",
    "filepath = os.path.join(\"C:\\\\\", \"qudi-hira\", \"hardware\", \"nanonis\", filename)"
   ]
  },
  {
   "cell_type": "code",
   "execution_count": 5,
   "metadata": {},
   "outputs": [],
   "source": [
    "open(filepath, \"w\").close()\n",
    "\n",
    "# init\n",
    "with open(filepath, 'a', newline='') as f:\n",
    "    writer = csv.writer(f)\n",
    "    writer.writerow([x_size, y_size])\n",
    "    \n",
    "time.sleep(1)\n",
    "\n",
    "# run\n",
    "for x, y in product(np.arange(x_size), np.arange(y_size)):\n",
    "    with open(filepath, 'a', newline='') as f:\n",
    "        writer = csv.writer(f)\n",
    "        writer.writerow([x, y])\n",
    "    time.sleep(1)\n",
    "\n",
    "# end\n",
    "with open(filepath, 'a', newline='') as f:\n",
    "    writer = csv.writer(f)\n",
    "    writer.writerow([-1, -1])"
   ]
  }
 ],
 "metadata": {
  "kernelspec": {
   "display_name": "qudi",
   "language": "python",
   "name": "qudi"
  },
  "language_info": {
   "codemirror_mode": {
    "name": "ipython",
    "version": 3
   },
   "file_extension": ".py",
   "mimetype": "text/x-python",
   "name": "python",
   "nbconvert_exporter": "python",
   "pygments_lexer": "ipython3",
   "version": "3.6.5"
  }
 },
 "nbformat": 4,
 "nbformat_minor": 2
}

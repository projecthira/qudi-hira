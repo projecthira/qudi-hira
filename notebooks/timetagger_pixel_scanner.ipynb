{
 "cells": [
  {
   "cell_type": "code",
   "execution_count": 17,
   "metadata": {},
   "outputs": [],
   "source": [
    "import matplotlib.pyplot as plt"
   ]
  },
  {
   "cell_type": "code",
   "execution_count": 2,
   "metadata": {},
   "outputs": [],
   "source": [
    "pixels = 128"
   ]
  },
  {
   "cell_type": "code",
   "execution_count": 3,
   "metadata": {},
   "outputs": [
    {
     "data": {
      "text/plain": [
       "0"
      ]
     },
     "execution_count": 3,
     "metadata": {},
     "output_type": "execute_result"
    }
   ],
   "source": [
    "timetagger_pixel_counter._tagger.reset()\n",
    "timetagger_pixel_counter.configure(pixels=pixels)"
   ]
  },
  {
   "cell_type": "code",
   "execution_count": 19,
   "metadata": {},
   "outputs": [],
   "source": [
    "count_rates = timetagger_pixel_counter.get_cleaned_count_rate()\n",
    "forward, backward = timetagger_pixel_counter.get_forward_backward_counts(count_rates)\n",
    "\n",
    "fig, (ax, ax1) = plt.subplots(ncols=2, sharey=\"row\", figsize=(10, 10))\n",
    "\n",
    "img_forward = ax.imshow(forward, origin=\"lower\")\n",
    "ax.set_title(\"Forward\")\n",
    "fig.colorbar(img_forward, ax=ax, shrink=0.4)\n",
    "\n",
    "img_backward = ax1.imshow(backward, origin=\"lower\")\n",
    "ax1.set_title(\"Backward\")\n",
    "fig.colorbar(img_backward, ax=ax1, shrink=0.4)\n",
    "\n",
    "\n",
    "plt.show()\n",
    "# plt.close()\n",
    "fig.show()\n",
    "\n",
    "fig.savefig(\"timetagger_pixel_scanner.jpg\", dpi=300)"
   ]
  },
  {
   "cell_type": "code",
   "execution_count": null,
   "metadata": {},
   "outputs": [],
   "source": []
  }
 ],
 "metadata": {
  "kernelspec": {
   "display_name": "Qudi",
   "language": "python",
   "name": "qudi"
  },
  "language_info": {
   "codemirror_mode": {
    "name": "ipython",
    "version": "3.6.5"
   },
   "file_extension": ".py",
   "mimetype": "text/x-python",
   "name": "python",
   "nbconvert_exporter": "python",
   "pygments_lexer": "ipython3",
   "version": "3.6.5"
  }
 },
 "nbformat": 4,
 "nbformat_minor": 2
}

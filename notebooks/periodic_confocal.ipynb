{
 "cells": [
  {
   "cell_type": "code",
   "execution_count": 3,
   "metadata": {
    "pycharm": {
     "name": "#%%\n"
    }
   },
   "outputs": [],
   "source": [
    "import time\n",
    "import datetime"
   ]
  },
  {
   "cell_type": "code",
   "execution_count": 10,
   "metadata": {
    "pycharm": {
     "name": "#%%\n"
    }
   },
   "outputs": [],
   "source": [
    "# times in seconds\n",
    "CONFOCAL_TIMER = 400\n",
    "SAVE_TIMER = 5\n",
    "\n",
    "NUM_INDEXES = 5\n",
    "\n",
    "backing_pressures = []"
   ]
  },
  {
   "cell_type": "code",
   "execution_count": null,
   "metadata": {
    "pycharm": {
     "name": "#%%\n"
    }
   },
   "outputs": [
    {
     "name": "stdout",
     "output_type": "stream",
     "text": [
      "2022-08-08 14:21:12.249359 - pressure_change_idx_0, Backing pressure = 1180.0\n",
      "Scanning and waiting for 400s...\n"
     ]
    }
   ],
   "source": [
    "for idx in range(NUM_INDEXES):    \n",
    "    # Get pressures\n",
    "    pressure = pressuremonitorlogic.data['back'][-1]\n",
    "    backing_pressures.append(pressure)\n",
    "\n",
    "    nametag = f\"pressure_change_idx_{idx}\"\n",
    "    print(f\"{datetime.datetime.now()} - {nametag}, Backing pressure = {pressure}\")\n",
    "    confocalgui._mw.save_tag_LineEdit.setText(nametag)\n",
    "    \n",
    "    # Start confocal\n",
    "    confocalgui.xy_scan_clicked()\n",
    "\n",
    "    print(f\"Scanning and waiting for {CONFOCAL_TIMER}s...\")\n",
    "    time.sleep(CONFOCAL_TIMER)\n",
    "\n",
    "    print(\"Scan complete, saving...\")\n",
    "    confocalgui.save_xy_scan_data()\n",
    "    time.sleep(SAVE_TIMER)\n",
    "    \n",
    "print(\"Complete\")"
   ]
  },
  {
   "cell_type": "code",
   "execution_count": null,
   "metadata": {
    "pycharm": {
     "name": "#%%\n"
    }
   },
   "outputs": [],
   "source": []
  }
 ],
 "metadata": {
  "kernelspec": {
   "display_name": "Qudi",
   "language": "python",
   "name": "qudi"
  },
  "language_info": {
   "codemirror_mode": {
    "name": "ipython",
    "version": "3.6.5"
   },
   "file_extension": ".py",
   "mimetype": "text/x-python",
   "name": "python",
   "nbconvert_exporter": "python",
   "pygments_lexer": "ipython3",
   "version": "3.6.5"
  }
 },
 "nbformat": 4,
 "nbformat_minor": 2
}
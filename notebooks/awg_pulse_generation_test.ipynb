{
 "cells": [
  {
   "cell_type": "code",
   "execution_count": null,
   "metadata": {},
   "outputs": [],
   "source": []
  },
  {
   "cell_type": "code",
   "execution_count": 26,
   "metadata": {},
   "outputs": [],
   "source": [
    "class Test:\n",
    "    # Set up all the constants of the system, these are chosen after optimizing for\n",
    "    # performance and accuracy\n",
    "    # Sample set to default - 1.25 GSa/sec\n",
    "    sample_rate = 0.625e9\n",
    "    # Synchronize analog and digital channels\n",
    "    digital_sync_length = 9e-9\n",
    "    # Null pulse to settle instruments\n",
    "    null_pulse_length = 30e-9\n",
    "    # MW trigger length, detected at POS edge\n",
    "    mw_trig_length = 30e-9\n",
    "    # Max samples supported by AWG\n",
    "    max_samples = 130e6\n",
    "    \n",
    "    laser_readout_length = 250e-9\n",
    "    delay_length = 1e-6\n",
    "    pi_pulse_length = 100e-9\n",
    "    freq_rep = 10000\n",
    "    \n",
    "    def list_to_waveform_pulsed(self):\n",
    "        # Laser, Readout, Switch and MW trigger channels\n",
    "        analog_samples = {'a_ch0': []}\n",
    "        digital_samples = {'d_ch0': [], 'd_ch1': [], 'd_ch2': [], 'd_ch5': []}\n",
    "\n",
    "        # Length of a single frequency (single pulse * frequency repetition rate)\n",
    "        single_freq_pulse_length = (self.laser_readout_length + self.delay_length + self.pi_pulse_length + \n",
    "                                    self.null_pulse_length) * self.freq_rep\n",
    "        single_freq_pulse_samples = int(np.floor(single_freq_pulse_length * self.sample_rate))\n",
    "\n",
    "        total_pulse_length = self.mw_trig_length + 2 * self.null_pulse_length + single_freq_pulse_length\n",
    "        total_pulse_samples = int(np.floor(total_pulse_length * self.sample_rate))\n",
    "\n",
    "        # Set up all the pulse lengths\n",
    "        mw_trig_pulse_sample = int(np.floor(self.mw_trig_length * self.sample_rate))\n",
    "        delay_pulse_sample = int(np.floor(self.delay_length * self.sample_rate))\n",
    "        switch_pulse_sample = int(np.floor(self.pi_pulse_length * self.sample_rate))\n",
    "        null_pulse_sample = int(np.floor(self.null_pulse_length * self.sample_rate))\n",
    "        laser_readout_pulse_sample = int(np.floor(self.laser_readout_length * self.sample_rate))\n",
    "\n",
    "        # Set up empty sequences for channels (switch uses np.ones as channel HIGH is off and LOW is on)\n",
    "        mw_trig_samples = np.zeros(total_pulse_samples)\n",
    "        laser_samples = np.zeros(total_pulse_samples)\n",
    "        readout_samples = np.zeros(total_pulse_samples)\n",
    "        switch_samples = np.ones(total_pulse_samples)\n",
    "\n",
    "        mw_trig_samples[0:mw_trig_pulse_sample] = 1\n",
    "\n",
    "        current_freq_idx = mw_trig_pulse_sample + 2 * null_pulse_sample\n",
    "        \n",
    "        for _ in range(self.freq_rep):\n",
    "            # Null pulses are added to take into account the settling time of the instruments\n",
    "            single_freq_start = current_freq_idx\n",
    "\n",
    "            laser_start = single_freq_start\n",
    "            laser_stop = laser_start + laser_readout_pulse_sample\n",
    "\n",
    "            switch_start = single_freq_start + delay_pulse_sample\n",
    "            switch_stop = switch_start + switch_pulse_sample\n",
    "\n",
    "            laser_samples[laser_start:laser_stop] = np.ones(laser_stop - laser_start)\n",
    "            readout_samples[laser_start:laser_stop] = np.ones(laser_stop - laser_start)\n",
    "            switch_samples[switch_start:switch_stop] = np.zeros(switch_stop - switch_start)\n",
    "\n",
    "            current_freq_idx += laser_readout_pulse_sample + delay_pulse_sample + switch_pulse_sample + \\\n",
    "                                null_pulse_sample\n",
    "\n",
    "            # Digital and analog channels are mapped to the sequences\n",
    "            digital_samples['d_ch0'] = laser_samples\n",
    "            digital_samples['d_ch1'] = readout_samples\n",
    "            digital_samples['d_ch2'] = switch_samples\n",
    "            digital_samples['d_ch5'] = mw_trig_samples\n",
    "            analog_samples['a_ch0'] = np.zeros(total_pulse_samples)\n",
    "\n",
    "        return analog_samples, digital_samples"
   ]
  },
  {
   "cell_type": "code",
   "execution_count": 27,
   "metadata": {},
   "outputs": [],
   "source": [
    "t = Test()\n",
    "analog_samples, digital_samples = t.list_to_waveform_pulsed()"
   ]
  },
  {
   "cell_type": "code",
   "execution_count": 28,
   "metadata": {},
   "outputs": [
    {
     "name": "stdout",
     "output_type": "stream",
     "text": [
      "8625056\n"
     ]
    }
   ],
   "source": [
    "for idx, (key, value) in enumerate(analog_samples.items()):\n",
    "    print(len(value))"
   ]
  },
  {
   "cell_type": "code",
   "execution_count": 21,
   "metadata": {},
   "outputs": [
    {
     "name": "stdout",
     "output_type": "stream",
     "text": [
      "4368\n",
      "4368\n",
      "4368\n",
      "4368\n"
     ]
    }
   ],
   "source": [
    "fig, ax = plt.subplots(nrows=len(digital_samples), sharex=True)\n",
    "\n",
    "for idx, (key, value) in enumerate(digital_samples.items()):\n",
    "    ax[idx].plot(value)\n",
    "    ax[idx].set_title(key)\n",
    "    print(len(value))\n",
    "    \n",
    "fig.tight_layout()\n",
    "\n",
    "plt.savefig(\"digital.png\", dpi=300)"
   ]
  },
  {
   "cell_type": "code",
   "execution_count": null,
   "metadata": {},
   "outputs": [],
   "source": [
    "single_sweep_time = 2\n",
    "total_pulse_length = 0.014\n",
    "freq_list_len = 41\n",
    "freq_rep = 10000"
   ]
  },
  {
   "cell_type": "code",
   "execution_count": null,
   "metadata": {},
   "outputs": [],
   "source": [
    "avg"
   ]
  }
 ],
 "metadata": {
  "kernelspec": {
   "display_name": "Qudi",
   "language": "python",
   "name": "qudi"
  },
  "language_info": {
   "codemirror_mode": {
    "name": "ipython",
    "version": "3.6.5"
   },
   "file_extension": ".py",
   "mimetype": "text/x-python",
   "name": "python",
   "nbconvert_exporter": "python",
   "pygments_lexer": "ipython3",
   "version": "3.6.5"
  }
 },
 "nbformat": 4,
 "nbformat_minor": 2
}

{
 "cells": [
  {
   "cell_type": "markdown",
   "metadata": {},
   "source": [
    "# NV Saturation measurement\n",
    "\n",
    "Required modules\n",
    "- powermeterlogic\n",
    "- laserlogic"
   ]
  },
  {
   "cell_type": "code",
   "execution_count": 1,
   "metadata": {
    "pycharm": {
     "name": "#%%\n"
    }
   },
   "outputs": [],
   "source": [
    "import os\n",
    "import time\n",
    "import matplotlib.pyplot as plt\n",
    "\n",
    "from collections import OrderedDict\n",
    "import datetime\n",
    "\n",
    "from logic.generic_logic import GenericLogic"
   ]
  },
  {
   "cell_type": "code",
   "execution_count": 2,
   "metadata": {},
   "outputs": [],
   "source": [
    "class SaturationLogic(GenericLogic):\n",
    "    def __init__(self):\n",
    "        self.count_freq = counterlogic._count_frequency\n",
    "        self.laserlogic = laserlogic\n",
    "        self.powermeterlogic = powermeterlogic\n",
    "        self.counterlogic = counterlogic\n",
    "        self.savelogic = savelogic\n",
    "        \n",
    "        self.data = {}\n",
    "        self.start_power = 0\n",
    "        self.final_power = 0\n",
    "        self.num_points = 0\n",
    "        self.counts_average_from_end = 0\n",
    "        self.measurement_start_time = None\n",
    "        self.measurement_stop_time = None\n",
    "        \n",
    "    def draw_figure(self):\n",
    "        powers, counts = self.data[\"Powermeter power (W)\"], self.data[\"Avg. counts\"]\n",
    "\n",
    "        plt.style.use(savelogic.mpl_qudihira_style)\n",
    "\n",
    "        fig, ax = plt.subplots()\n",
    "\n",
    "        ax.errorbar(powers * 1e6, counts, yerr=self.data[\"Count errors\"], capsize=3, fmt=\"o-\")\n",
    "        ax.set_xlabel(\"Powermeter power (uW)\")\n",
    "        ax.set_ylabel(\"Mean counts (kcps)\")\n",
    "        \n",
    "        fig.tight_layout()\n",
    "        return fig\n",
    "\n",
    "    def save_data(self, tag=None):\n",
    "        timestamp = datetime.datetime.now()\n",
    "\n",
    "        parameters = OrderedDict()\n",
    "        \n",
    "        data_to_save = OrderedDict()\n",
    "        data_to_save[\"Laser power (W)\"] = self.data[\"Laser power (W)\"]\n",
    "        data_to_save[\"Powermeter power (W)\"] = self.data[\"Powermeter power (W)\"]\n",
    "        data_to_save[\"UHV objective power (W)\"] = self.data[\"UHV objective power (W)\"]\n",
    "        data_to_save[\"RT objective power (W)\"] = self.data[\"RT objective power (W)\"]\n",
    "        data_to_save[\"Avg. counts\"] = self.data[\"Avg. counts\"]\n",
    "        data_to_save[\"Upper count errors\"] = self.data[\"Count errors\"][0, :]\n",
    "        data_to_save[\"Lower count errors\"] = self.data[\"Count errors\"][1, :]\n",
    "\n",
    "        filepath = self.savelogic.get_path_for_module(module_name=\"Saturation\")\n",
    "\n",
    "        if tag:\n",
    "            filelabel = f\"{tag}_saturation\"\n",
    "        else:\n",
    "            filelabel = \"saturation\"\n",
    "        \n",
    "        self.log.info('Saturation saved to:\\n{0}'.format(filepath))\n",
    "        print('Saturation saved to:\\n{0}'.format(filepath))\n",
    "\n",
    "        fig = self.draw_figure()\n",
    "\n",
    "        self.savelogic.save_data(data_to_save, filepath=filepath, parameters=parameters, filelabel=filelabel, \n",
    "                                 timestamp=timestamp, plotfig=fig, delimiter='\\t')\n",
    "        \n",
    "    def set_up_measure(self, start_power, final_power, num_points, counts_average_from_end):\n",
    "        self.start_power = start_power\n",
    "        self.final_power = final_power\n",
    "        self.num_points = num_points\n",
    "        self.counts_average_from_end = counts_average_from_end\n",
    "        \n",
    "    def start_measure(self):\n",
    "        self.data = {}\n",
    "        laser_powers = np.linspace(self.start_power, self.final_power, self.num_points)\n",
    "        counts = np.zeros(self.num_points, dtype=int)\n",
    "        powermeter_powers = np.zeros(self.num_points)\n",
    "        count_errors = np.zeros((2, self.num_points))\n",
    "        \n",
    "        current_power = self.laserlogic.laser_power\n",
    "        \n",
    "        self.measurement_start_time = datetime.datetime.now()\n",
    "\n",
    "        for idx, laser_power in enumerate(laser_powers):\n",
    "            try: \n",
    "                self.laserlogic.set_power(laser_power)\n",
    "            except ValueError:\n",
    "                time.sleep(1)\n",
    "                self.laserlogic.set_power(laser_power)\n",
    "            \n",
    "            # Sleep for 5s\n",
    "            time.sleep(150 / self.count_freq)\n",
    "            self.powermeterlogic.get_power(state=None)\n",
    "            powermeter_powers[idx] = self.powermeterlogic.power\n",
    "            \n",
    "            count_array = self.counterlogic.countdata_smoothed[0, -self.counts_average_from_end:]\n",
    "            counts[idx] = np.mean(count_array)\n",
    "            count_errors[0, idx] = np.max(count_array) - counts[idx]\n",
    "            count_errors[1, idx] = counts[idx] - np.min(count_array)\n",
    "\n",
    "            print(f\"[{idx+1}/{len(laser_powers)}] laser power={laser_power * 1e3} mW, powermeter power={powermeter_powers[idx] * 1e6:.2f} uW, counts={counts[idx]}\")\n",
    "        \n",
    "        self.measurement_stop_time = datetime.datetime.now()\n",
    "\n",
    "        self.data = {\n",
    "            \"Laser power (W)\": laser_powers, \n",
    "            \"Powermeter power (W)\": powermeter_powers, \n",
    "            \"UHV objective power (W)\": powermeter_powers * powermeterlogic.calibration_param_uhv, \n",
    "            \"RT objective power (W)\": powermeter_powers * powermeterlogic.calibration_param_rt,\n",
    "            \"Avg. counts\": counts,\n",
    "            \"Count errors\": count_errors\n",
    "        }"
   ]
  },
  {
   "cell_type": "code",
   "execution_count": 4,
   "metadata": {
    "pycharm": {
     "name": "#%%\n"
    }
   },
   "outputs": [
    {
     "name": "stdout",
     "output_type": "stream",
     "text": [
      "[1/20] laser power=5.0 mW, powermeter power=0.02 uW, counts=357\n",
      "[2/20] laser power=10.0 mW, powermeter power=0.78 uW, counts=3632\n",
      "[3/20] laser power=15.0 mW, powermeter power=2.15 uW, counts=7770\n",
      "[4/20] laser power=20.0 mW, powermeter power=4.66 uW, counts=14571\n",
      "[5/20] laser power=25.0 mW, powermeter power=8.99 uW, counts=22219\n",
      "[6/20] laser power=30.000000000000004 mW, powermeter power=12.80 uW, counts=27360\n",
      "[7/20] laser power=34.99999999999999 mW, powermeter power=16.50 uW, counts=31010\n",
      "[8/20] laser power=40.0 mW, powermeter power=19.78 uW, counts=33809\n",
      "[9/20] laser power=45.0 mW, powermeter power=23.59 uW, counts=37242\n",
      "[10/20] laser power=49.99999999999999 mW, powermeter power=28.44 uW, counts=39926\n",
      "[11/20] laser power=55.0 mW, powermeter power=33.24 uW, counts=41999\n",
      "[12/20] laser power=60.0 mW, powermeter power=39.11 uW, counts=43861\n",
      "[13/20] laser power=65.0 mW, powermeter power=44.52 uW, counts=45394\n",
      "[14/20] laser power=70.0 mW, powermeter power=51.10 uW, counts=47184\n",
      "[15/20] laser power=75.00000000000001 mW, powermeter power=56.31 uW, counts=49094\n",
      "[16/20] laser power=80.0 mW, powermeter power=61.50 uW, counts=50392\n",
      "[17/20] laser power=85.0 mW, powermeter power=66.59 uW, counts=51985\n",
      "[18/20] laser power=90.00000000000001 mW, powermeter power=71.54 uW, counts=52506\n",
      "[19/20] laser power=95.0 mW, powermeter power=75.73 uW, counts=54236\n",
      "[20/20] laser power=100.0 mW, powermeter power=80.81 uW, counts=55072\n",
      "Saturation saved to:\n",
      "Z:\\\\Data\\\\20221206_FR0612-F2-2R16_PCB_UHVstage_rotated\\2022\\12\\20221206\\Saturation\n"
     ]
    }
   ],
   "source": [
    "sat = SaturationLogic()\n",
    "sat.set_up_measure(start_power=5e-3, final_power=100e-3, num_points=20, counts_average_from_end=75)\n",
    "sat.start_measure()\n",
    "sat.save_data(tag=\"NV_with_90_10_BS\")"
   ]
  },
  {
   "cell_type": "code",
   "execution_count": null,
   "metadata": {},
   "outputs": [],
   "source": []
  }
 ],
 "metadata": {
  "kernelspec": {
   "display_name": "Qudi",
   "language": "python",
   "name": "qudi"
  },
  "language_info": {
   "codemirror_mode": {
    "name": "ipython",
    "version": "3.6.5"
   },
   "file_extension": ".py",
   "mimetype": "text/x-python",
   "name": "python",
   "nbconvert_exporter": "python",
   "pygments_lexer": "ipython3",
   "version": "3.6.5"
  }
 },
 "nbformat": 4,
 "nbformat_minor": 2
}
